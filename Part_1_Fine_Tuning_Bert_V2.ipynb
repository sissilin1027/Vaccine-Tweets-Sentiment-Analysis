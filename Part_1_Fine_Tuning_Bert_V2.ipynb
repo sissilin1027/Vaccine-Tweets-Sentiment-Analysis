{
 "cells": [
  {
   "cell_type": "code",
   "execution_count": null,
   "metadata": {
    "id": "bFPyYL7bihAi"
   },
   "outputs": [],
   "source": [
    "# Code to wrap output\n",
    "from IPython.display import HTML, display\n",
    "\n",
    "def set_css():\n",
    "  display(HTML('''\n",
    "  <style>\n",
    "    pre {\n",
    "        white-space: pre-wrap;\n",
    "    }\n",
    "  </style>\n",
    "  '''))\n",
    "get_ipython().events.register('pre_run_cell', set_css)"
   ]
  },
  {
   "cell_type": "code",
   "execution_count": null,
   "metadata": {
    "colab": {
     "base_uri": "https://localhost:8080/",
     "height": 17
    },
    "id": "d_wM4xs9hWJx",
    "outputId": "d0625b87-680e-4559-e2d8-ae0898804aba"
   },
   "outputs": [
    {
     "data": {
      "text/html": [
       "\n",
       "  <style>\n",
       "    pre {\n",
       "        white-space: pre-wrap;\n",
       "    }\n",
       "  </style>\n",
       "  "
      ],
      "text/plain": [
       "<IPython.core.display.HTML object>"
      ]
     },
     "metadata": {
      "tags": []
     },
     "output_type": "display_data"
    }
   ],
   "source": [
    "# Import libraries\n",
    "import pandas as pd\n",
    "import tensorflow as tf\n",
    "import re\n",
    "import numpy as np"
   ]
  },
  {
   "cell_type": "code",
   "execution_count": null,
   "metadata": {
    "colab": {
     "base_uri": "https://localhost:8080/",
     "height": 17
    },
    "id": "bv3cxleptd7K",
    "outputId": "4729c787-de65-4250-e063-7ea4f133f627"
   },
   "outputs": [
    {
     "data": {
      "text/html": [
       "\n",
       "  <style>\n",
       "    pre {\n",
       "        white-space: pre-wrap;\n",
       "    }\n",
       "  </style>\n",
       "  "
      ],
      "text/plain": [
       "<IPython.core.display.HTML object>"
      ]
     },
     "metadata": {
      "tags": []
     },
     "output_type": "display_data"
    }
   ],
   "source": [
    "# # Install transformers\n",
    "# !pip install transformers"
   ]
  },
  {
   "cell_type": "code",
   "execution_count": null,
   "metadata": {
    "colab": {
     "base_uri": "https://localhost:8080/",
     "height": 1000
    },
    "id": "oKxkK4f8OhFW",
    "outputId": "1069dd66-d2eb-4fe1-d9e9-1d149d72cfcb"
   },
   "outputs": [
    {
     "data": {
      "text/html": [
       "\n",
       "  <style>\n",
       "    pre {\n",
       "        white-space: pre-wrap;\n",
       "    }\n",
       "  </style>\n",
       "  "
      ],
      "text/plain": [
       "<IPython.core.display.HTML object>"
      ]
     },
     "metadata": {
      "tags": []
     },
     "output_type": "display_data"
    },
    {
     "name": "stdout",
     "output_type": "stream",
     "text": [
      "Collecting ktrain\n",
      "\u001b[?25l  Downloading https://files.pythonhosted.org/packages/99/67/31cab9d7c0e23333aebc28b082659c1528f9ab7e22d00e7237efe4fc14f6/ktrain-0.26.2.tar.gz (25.3MB)\n",
      "\u001b[K     |████████████████████████████████| 25.3MB 1.3MB/s \n",
      "\u001b[?25hCollecting scikit-learn==0.23.2\n",
      "\u001b[?25l  Downloading https://files.pythonhosted.org/packages/f4/cb/64623369f348e9bfb29ff898a57ac7c91ed4921f228e9726546614d63ccb/scikit_learn-0.23.2-cp37-cp37m-manylinux1_x86_64.whl (6.8MB)\n",
      "\u001b[K     |████████████████████████████████| 6.8MB 57.0MB/s \n",
      "\u001b[?25hRequirement already satisfied: matplotlib>=3.0.0 in /usr/local/lib/python3.7/dist-packages (from ktrain) (3.2.2)\n",
      "Requirement already satisfied: pandas>=1.0.1 in /usr/local/lib/python3.7/dist-packages (from ktrain) (1.1.5)\n",
      "Requirement already satisfied: fastprogress>=0.1.21 in /usr/local/lib/python3.7/dist-packages (from ktrain) (1.0.0)\n",
      "Requirement already satisfied: requests in /usr/local/lib/python3.7/dist-packages (from ktrain) (2.23.0)\n",
      "Requirement already satisfied: joblib in /usr/local/lib/python3.7/dist-packages (from ktrain) (1.0.1)\n",
      "Requirement already satisfied: packaging in /usr/local/lib/python3.7/dist-packages (from ktrain) (20.9)\n",
      "Requirement already satisfied: ipython in /usr/local/lib/python3.7/dist-packages (from ktrain) (5.5.0)\n",
      "Collecting langdetect\n",
      "\u001b[?25l  Downloading https://files.pythonhosted.org/packages/56/a3/8407c1e62d5980188b4acc45ef3d94b933d14a2ebc9ef3505f22cf772570/langdetect-1.0.8.tar.gz (981kB)\n",
      "\u001b[K     |████████████████████████████████| 983kB 30.7MB/s \n",
      "\u001b[?25hRequirement already satisfied: jieba in /usr/local/lib/python3.7/dist-packages (from ktrain) (0.42.1)\n",
      "Collecting cchardet\n",
      "\u001b[?25l  Downloading https://files.pythonhosted.org/packages/80/72/a4fba7559978de00cf44081c548c5d294bf00ac7dcda2db405d2baa8c67a/cchardet-2.1.7-cp37-cp37m-manylinux2010_x86_64.whl (263kB)\n",
      "\u001b[K     |████████████████████████████████| 266kB 59.3MB/s \n",
      "\u001b[?25hCollecting syntok\n",
      "  Downloading https://files.pythonhosted.org/packages/8c/76/a49e73a04b3e3a14ce232e8e28a1587f8108baa665644fe8c40e307e792e/syntok-1.3.1.tar.gz\n",
      "Collecting seqeval==0.0.19\n",
      "  Downloading https://files.pythonhosted.org/packages/93/e5/b7705156a77f742cfe4fc6f22d0c71591edb2d243328dff2f8fc0f933ab6/seqeval-0.0.19.tar.gz\n",
      "Collecting transformers<=4.3.3,>=4.0.0\n",
      "\u001b[?25l  Downloading https://files.pythonhosted.org/packages/f9/54/5ca07ec9569d2f232f3166de5457b63943882f7950ddfcc887732fc7fb23/transformers-4.3.3-py3-none-any.whl (1.9MB)\n",
      "\u001b[K     |████████████████████████████████| 1.9MB 47.8MB/s \n",
      "\u001b[?25hCollecting sentencepiece\n",
      "\u001b[?25l  Downloading https://files.pythonhosted.org/packages/f5/99/e0808cb947ba10f575839c43e8fafc9cc44e4a7a2c8f79c60db48220a577/sentencepiece-0.1.95-cp37-cp37m-manylinux2014_x86_64.whl (1.2MB)\n",
      "\u001b[K     |████████████████████████████████| 1.2MB 62.0MB/s \n",
      "\u001b[?25hCollecting keras_bert>=0.86.0\n",
      "  Downloading https://files.pythonhosted.org/packages/e2/7f/95fabd29f4502924fa3f09ff6538c5a7d290dfef2c2fe076d3d1a16e08f0/keras-bert-0.86.0.tar.gz\n",
      "Requirement already satisfied: networkx>=2.3 in /usr/local/lib/python3.7/dist-packages (from ktrain) (2.5.1)\n",
      "Collecting whoosh\n",
      "\u001b[?25l  Downloading https://files.pythonhosted.org/packages/ba/19/24d0f1f454a2c1eb689ca28d2f178db81e5024f42d82729a4ff6771155cf/Whoosh-2.7.4-py2.py3-none-any.whl (468kB)\n",
      "\u001b[K     |████████████████████████████████| 471kB 65.9MB/s \n",
      "\u001b[?25hCollecting threadpoolctl>=2.0.0\n",
      "  Downloading https://files.pythonhosted.org/packages/f7/12/ec3f2e203afa394a149911729357aa48affc59c20e2c1c8297a60f33f133/threadpoolctl-2.1.0-py3-none-any.whl\n",
      "Requirement already satisfied: numpy>=1.13.3 in /usr/local/lib/python3.7/dist-packages (from scikit-learn==0.23.2->ktrain) (1.19.5)\n",
      "Requirement already satisfied: scipy>=0.19.1 in /usr/local/lib/python3.7/dist-packages (from scikit-learn==0.23.2->ktrain) (1.4.1)\n",
      "Requirement already satisfied: kiwisolver>=1.0.1 in /usr/local/lib/python3.7/dist-packages (from matplotlib>=3.0.0->ktrain) (1.3.1)\n",
      "Requirement already satisfied: cycler>=0.10 in /usr/local/lib/python3.7/dist-packages (from matplotlib>=3.0.0->ktrain) (0.10.0)\n",
      "Requirement already satisfied: pyparsing!=2.0.4,!=2.1.2,!=2.1.6,>=2.0.1 in /usr/local/lib/python3.7/dist-packages (from matplotlib>=3.0.0->ktrain) (2.4.7)\n",
      "Requirement already satisfied: python-dateutil>=2.1 in /usr/local/lib/python3.7/dist-packages (from matplotlib>=3.0.0->ktrain) (2.8.1)\n",
      "Requirement already satisfied: pytz>=2017.2 in /usr/local/lib/python3.7/dist-packages (from pandas>=1.0.1->ktrain) (2018.9)\n",
      "Requirement already satisfied: certifi>=2017.4.17 in /usr/local/lib/python3.7/dist-packages (from requests->ktrain) (2020.12.5)\n",
      "Requirement already satisfied: chardet<4,>=3.0.2 in /usr/local/lib/python3.7/dist-packages (from requests->ktrain) (3.0.4)\n",
      "Requirement already satisfied: urllib3!=1.25.0,!=1.25.1,<1.26,>=1.21.1 in /usr/local/lib/python3.7/dist-packages (from requests->ktrain) (1.24.3)\n",
      "Requirement already satisfied: idna<3,>=2.5 in /usr/local/lib/python3.7/dist-packages (from requests->ktrain) (2.10)\n",
      "Requirement already satisfied: decorator in /usr/local/lib/python3.7/dist-packages (from ipython->ktrain) (4.4.2)\n",
      "Requirement already satisfied: pexpect; sys_platform != \"win32\" in /usr/local/lib/python3.7/dist-packages (from ipython->ktrain) (4.8.0)\n",
      "Requirement already satisfied: prompt-toolkit<2.0.0,>=1.0.4 in /usr/local/lib/python3.7/dist-packages (from ipython->ktrain) (1.0.18)\n",
      "Requirement already satisfied: pygments in /usr/local/lib/python3.7/dist-packages (from ipython->ktrain) (2.6.1)\n",
      "Requirement already satisfied: traitlets>=4.2 in /usr/local/lib/python3.7/dist-packages (from ipython->ktrain) (5.0.5)\n",
      "Requirement already satisfied: pickleshare in /usr/local/lib/python3.7/dist-packages (from ipython->ktrain) (0.7.5)\n",
      "Requirement already satisfied: setuptools>=18.5 in /usr/local/lib/python3.7/dist-packages (from ipython->ktrain) (56.0.0)\n",
      "Requirement already satisfied: simplegeneric>0.8 in /usr/local/lib/python3.7/dist-packages (from ipython->ktrain) (0.8.1)\n",
      "Requirement already satisfied: six in /usr/local/lib/python3.7/dist-packages (from langdetect->ktrain) (1.15.0)\n",
      "Requirement already satisfied: regex in /usr/local/lib/python3.7/dist-packages (from syntok->ktrain) (2019.12.20)\n",
      "Requirement already satisfied: Keras>=2.2.4 in /usr/local/lib/python3.7/dist-packages (from seqeval==0.0.19->ktrain) (2.4.3)\n",
      "Requirement already satisfied: tqdm>=4.27 in /usr/local/lib/python3.7/dist-packages (from transformers<=4.3.3,>=4.0.0->ktrain) (4.41.1)\n",
      "Requirement already satisfied: importlib-metadata; python_version < \"3.8\" in /usr/local/lib/python3.7/dist-packages (from transformers<=4.3.3,>=4.0.0->ktrain) (3.10.1)\n",
      "Collecting sacremoses\n",
      "\u001b[?25l  Downloading https://files.pythonhosted.org/packages/75/ee/67241dc87f266093c533a2d4d3d69438e57d7a90abb216fa076e7d475d4a/sacremoses-0.0.45-py3-none-any.whl (895kB)\n",
      "\u001b[K     |████████████████████████████████| 901kB 57.3MB/s \n",
      "\u001b[?25hCollecting tokenizers<0.11,>=0.10.1\n",
      "\u001b[?25l  Downloading https://files.pythonhosted.org/packages/ae/04/5b870f26a858552025a62f1649c20d29d2672c02ff3c3fb4c688ca46467a/tokenizers-0.10.2-cp37-cp37m-manylinux2010_x86_64.whl (3.3MB)\n",
      "\u001b[K     |████████████████████████████████| 3.3MB 38.3MB/s \n",
      "\u001b[?25hRequirement already satisfied: filelock in /usr/local/lib/python3.7/dist-packages (from transformers<=4.3.3,>=4.0.0->ktrain) (3.0.12)\n",
      "Collecting keras-transformer>=0.38.0\n",
      "  Downloading https://files.pythonhosted.org/packages/89/6c/d6f0c164f4cc16fbc0d0fea85f5526e87a7d2df7b077809e422a7e626150/keras-transformer-0.38.0.tar.gz\n",
      "Requirement already satisfied: ptyprocess>=0.5 in /usr/local/lib/python3.7/dist-packages (from pexpect; sys_platform != \"win32\"->ipython->ktrain) (0.7.0)\n",
      "Requirement already satisfied: wcwidth in /usr/local/lib/python3.7/dist-packages (from prompt-toolkit<2.0.0,>=1.0.4->ipython->ktrain) (0.2.5)\n",
      "Requirement already satisfied: ipython-genutils in /usr/local/lib/python3.7/dist-packages (from traitlets>=4.2->ipython->ktrain) (0.2.0)\n",
      "Requirement already satisfied: pyyaml in /usr/local/lib/python3.7/dist-packages (from Keras>=2.2.4->seqeval==0.0.19->ktrain) (3.13)\n",
      "Requirement already satisfied: h5py in /usr/local/lib/python3.7/dist-packages (from Keras>=2.2.4->seqeval==0.0.19->ktrain) (2.10.0)\n",
      "Requirement already satisfied: zipp>=0.5 in /usr/local/lib/python3.7/dist-packages (from importlib-metadata; python_version < \"3.8\"->transformers<=4.3.3,>=4.0.0->ktrain) (3.4.1)\n",
      "Requirement already satisfied: typing-extensions>=3.6.4; python_version < \"3.8\" in /usr/local/lib/python3.7/dist-packages (from importlib-metadata; python_version < \"3.8\"->transformers<=4.3.3,>=4.0.0->ktrain) (3.7.4.3)\n",
      "Requirement already satisfied: click in /usr/local/lib/python3.7/dist-packages (from sacremoses->transformers<=4.3.3,>=4.0.0->ktrain) (7.1.2)\n",
      "Collecting keras-pos-embd>=0.11.0\n",
      "  Downloading https://files.pythonhosted.org/packages/09/70/b63ed8fc660da2bb6ae29b9895401c628da5740c048c190b5d7107cadd02/keras-pos-embd-0.11.0.tar.gz\n",
      "Collecting keras-multi-head>=0.27.0\n",
      "  Downloading https://files.pythonhosted.org/packages/e6/32/45adf2549450aca7867deccfa04af80a0ab1ca139af44b16bc669e0e09cd/keras-multi-head-0.27.0.tar.gz\n",
      "Collecting keras-layer-normalization>=0.14.0\n",
      "  Downloading https://files.pythonhosted.org/packages/a4/0e/d1078df0494bac9ce1a67954e5380b6e7569668f0f3b50a9531c62c1fc4a/keras-layer-normalization-0.14.0.tar.gz\n",
      "Collecting keras-position-wise-feed-forward>=0.6.0\n",
      "  Downloading https://files.pythonhosted.org/packages/e3/59/f0faa1037c033059e7e9e7758e6c23b4d1c0772cd48de14c4b6fd4033ad5/keras-position-wise-feed-forward-0.6.0.tar.gz\n",
      "Collecting keras-embed-sim>=0.8.0\n",
      "  Downloading https://files.pythonhosted.org/packages/57/ef/61a1e39082c9e1834a2d09261d4a0b69f7c818b359216d4e1912b20b1c86/keras-embed-sim-0.8.0.tar.gz\n",
      "Collecting keras-self-attention==0.46.0\n",
      "  Downloading https://files.pythonhosted.org/packages/15/6b/c804924a056955fa1f3ff767945187103cfc851ba9bd0fc5a6c6bc18e2eb/keras-self-attention-0.46.0.tar.gz\n",
      "Building wheels for collected packages: ktrain, langdetect, syntok, seqeval, keras-bert, keras-transformer, keras-pos-embd, keras-multi-head, keras-layer-normalization, keras-position-wise-feed-forward, keras-embed-sim, keras-self-attention\n",
      "  Building wheel for ktrain (setup.py) ... \u001b[?25l\u001b[?25hdone\n",
      "  Created wheel for ktrain: filename=ktrain-0.26.2-cp37-none-any.whl size=25277794 sha256=b189149083e1c164b51503c2b2eee4931bd8788187603f575d76ec127a7d08ef\n",
      "  Stored in directory: /root/.cache/pip/wheels/67/2e/f1/c72afa08df8b2d984b910dea228902ce81dae4511afe9fafd2\n",
      "  Building wheel for langdetect (setup.py) ... \u001b[?25l\u001b[?25hdone\n",
      "  Created wheel for langdetect: filename=langdetect-1.0.8-cp37-none-any.whl size=993193 sha256=53db56c4705e4e9d4a98688c810b6b063ab6765df43d4ccedda167043adc2bd1\n",
      "  Stored in directory: /root/.cache/pip/wheels/8d/b3/aa/6d99de9f3841d7d3d40a60ea06e6d669e8e5012e6c8b947a57\n",
      "  Building wheel for syntok (setup.py) ... \u001b[?25l\u001b[?25hdone\n",
      "  Created wheel for syntok: filename=syntok-1.3.1-cp37-none-any.whl size=20919 sha256=cd83a80f5c35e6d1404b869eacccb1cf4f1528b447101e59632a96cbfb2468f0\n",
      "  Stored in directory: /root/.cache/pip/wheels/51/c6/a4/be1920586c49469846bcd2888200bdecfe109ec421dab9be2d\n",
      "  Building wheel for seqeval (setup.py) ... \u001b[?25l\u001b[?25hdone\n",
      "  Created wheel for seqeval: filename=seqeval-0.0.19-cp37-none-any.whl size=9919 sha256=9070458839de707fa9db1e162ebd4122c65a4f5fd2116d986d5401f1df5032c6\n",
      "  Stored in directory: /root/.cache/pip/wheels/8d/1f/bf/1198beceed805a2099060975f6281d1b01046dd279e19c97be\n",
      "  Building wheel for keras-bert (setup.py) ... \u001b[?25l\u001b[?25hdone\n",
      "  Created wheel for keras-bert: filename=keras_bert-0.86.0-cp37-none-any.whl size=34144 sha256=2ead9fd468942adbcbbf3905466b3aef658ef6252259495b458856066c54db66\n",
      "  Stored in directory: /root/.cache/pip/wheels/66/f0/b1/748128b58562fc9e31b907bb5e2ab6a35eb37695e83911236b\n",
      "  Building wheel for keras-transformer (setup.py) ... \u001b[?25l\u001b[?25hdone\n",
      "  Created wheel for keras-transformer: filename=keras_transformer-0.38.0-cp37-none-any.whl size=12942 sha256=e9f1857748b920cce0022c9f17fc87b7bb222df7e0abc4a291579658f868060f\n",
      "  Stored in directory: /root/.cache/pip/wheels/e5/fb/3a/37b2b9326c799aa010ae46a04ddb04f320d8c77c0b7e837f4e\n",
      "  Building wheel for keras-pos-embd (setup.py) ... \u001b[?25l\u001b[?25hdone\n",
      "  Created wheel for keras-pos-embd: filename=keras_pos_embd-0.11.0-cp37-none-any.whl size=7554 sha256=6717a3287c5caf65a8c8f666ccfee8f37ec0b1021f062df8a77350d2e6ce3ae8\n",
      "  Stored in directory: /root/.cache/pip/wheels/5b/a1/a0/ce6b1d49ba1a9a76f592e70cf297b05c96bc9f418146761032\n",
      "  Building wheel for keras-multi-head (setup.py) ... \u001b[?25l\u001b[?25hdone\n",
      "  Created wheel for keras-multi-head: filename=keras_multi_head-0.27.0-cp37-none-any.whl size=15611 sha256=ff618d0573e68a776758bcdeb7c0eefbfab9522df901e94b843dfac245e12f81\n",
      "  Stored in directory: /root/.cache/pip/wheels/b5/b4/49/0a0c27dcb93c13af02fea254ff51d1a43a924dd4e5b7a7164d\n",
      "  Building wheel for keras-layer-normalization (setup.py) ... \u001b[?25l\u001b[?25hdone\n",
      "  Created wheel for keras-layer-normalization: filename=keras_layer_normalization-0.14.0-cp37-none-any.whl size=5269 sha256=8510e1a014dc6253aac0bb51536d059ddf9d5f38ba6386d2ddc7470f8a1c951d\n",
      "  Stored in directory: /root/.cache/pip/wheels/54/80/22/a638a7d406fd155e507aa33d703e3fa2612b9eb7bb4f4fe667\n",
      "  Building wheel for keras-position-wise-feed-forward (setup.py) ... \u001b[?25l\u001b[?25hdone\n",
      "  Created wheel for keras-position-wise-feed-forward: filename=keras_position_wise_feed_forward-0.6.0-cp37-none-any.whl size=5623 sha256=c79bf86f80695cb52f281ace791d6fb2b528f6e24235ce188820476e4dd39fcb\n",
      "  Stored in directory: /root/.cache/pip/wheels/39/e2/e2/3514fef126a00574b13bc0b9e23891800158df3a3c19c96e3b\n",
      "  Building wheel for keras-embed-sim (setup.py) ... \u001b[?25l\u001b[?25hdone\n",
      "  Created wheel for keras-embed-sim: filename=keras_embed_sim-0.8.0-cp37-none-any.whl size=4558 sha256=49d3dcd93ab5d4a0acb01d5c23ea72d8244f300fcdc3baac165b9e8b5d82c7a6\n",
      "  Stored in directory: /root/.cache/pip/wheels/49/45/8b/c111f6cc8bec253e984677de73a6f4f5d2f1649f42aac191c8\n",
      "  Building wheel for keras-self-attention (setup.py) ... \u001b[?25l\u001b[?25hdone\n",
      "  Created wheel for keras-self-attention: filename=keras_self_attention-0.46.0-cp37-none-any.whl size=17278 sha256=cf66f6b60af343a7b716d345768ad8eb93aa17902abbc8b76ff447b53f3d4b39\n",
      "  Stored in directory: /root/.cache/pip/wheels/d2/2e/80/fec4c05eb23c8e13b790e26d207d6e0ffe8013fad8c6bdd4d2\n",
      "Successfully built ktrain langdetect syntok seqeval keras-bert keras-transformer keras-pos-embd keras-multi-head keras-layer-normalization keras-position-wise-feed-forward keras-embed-sim keras-self-attention\n",
      "Installing collected packages: threadpoolctl, scikit-learn, langdetect, cchardet, syntok, seqeval, sacremoses, tokenizers, transformers, sentencepiece, keras-pos-embd, keras-self-attention, keras-multi-head, keras-layer-normalization, keras-position-wise-feed-forward, keras-embed-sim, keras-transformer, keras-bert, whoosh, ktrain\n",
      "  Found existing installation: scikit-learn 0.22.2.post1\n",
      "    Uninstalling scikit-learn-0.22.2.post1:\n",
      "      Successfully uninstalled scikit-learn-0.22.2.post1\n",
      "Successfully installed cchardet-2.1.7 keras-bert-0.86.0 keras-embed-sim-0.8.0 keras-layer-normalization-0.14.0 keras-multi-head-0.27.0 keras-pos-embd-0.11.0 keras-position-wise-feed-forward-0.6.0 keras-self-attention-0.46.0 keras-transformer-0.38.0 ktrain-0.26.2 langdetect-1.0.8 sacremoses-0.0.45 scikit-learn-0.23.2 sentencepiece-0.1.95 seqeval-0.0.19 syntok-1.3.1 threadpoolctl-2.1.0 tokenizers-0.10.2 transformers-4.3.3 whoosh-2.7.4\n"
     ]
    }
   ],
   "source": [
    "# Install ktrain\n",
    "!pip install ktrain"
   ]
  },
  {
   "cell_type": "code",
   "execution_count": null,
   "metadata": {
    "colab": {
     "base_uri": "https://localhost:8080/",
     "height": 17
    },
    "id": "tPjxcX0D7Aq_",
    "outputId": "3ca85496-1682-457d-870c-13529f86a6a7"
   },
   "outputs": [
    {
     "data": {
      "text/html": [
       "\n",
       "  <style>\n",
       "    pre {\n",
       "        white-space: pre-wrap;\n",
       "    }\n",
       "  </style>\n",
       "  "
      ],
      "text/plain": [
       "<IPython.core.display.HTML object>"
      ]
     },
     "metadata": {
      "tags": []
     },
     "output_type": "display_data"
    }
   ],
   "source": [
    "# # Load the pre-trained BERT Tokenizer and Sequence Classifier\n",
    "# from transformers import BertTokenizer, TFBertForSequenceClassification\n",
    "# from transformers import InputExample, InputFeatures\n",
    "\n",
    "# # Build our model with the Sequence Classifier and our Tokenizer with BERT's Tokenizer\n",
    "# model = TFBertForSequenceClassification.from_pretrained(\"bert-base-uncased\")\n",
    "# tokenizer = BertTokenizer.from_pretrained(\"bert-base-uncased\")"
   ]
  },
  {
   "cell_type": "code",
   "execution_count": null,
   "metadata": {
    "colab": {
     "base_uri": "https://localhost:8080/",
     "height": 17
    },
    "id": "AkxA4If77p9I",
    "outputId": "44f83d6d-cae1-408a-b945-e8065f7bdf86"
   },
   "outputs": [
    {
     "data": {
      "text/html": [
       "\n",
       "  <style>\n",
       "    pre {\n",
       "        white-space: pre-wrap;\n",
       "    }\n",
       "  </style>\n",
       "  "
      ],
      "text/plain": [
       "<IPython.core.display.HTML object>"
      ]
     },
     "metadata": {
      "tags": []
     },
     "output_type": "display_data"
    }
   ],
   "source": [
    "# # Summary of BERT model\n",
    "# model.summary()"
   ]
  },
  {
   "cell_type": "code",
   "execution_count": null,
   "metadata": {
    "colab": {
     "base_uri": "https://localhost:8080/",
     "height": 17
    },
    "id": "8f94n3oChh75",
    "outputId": "5a915cae-08d1-4d43-c56e-c9da21745b52"
   },
   "outputs": [
    {
     "data": {
      "text/html": [
       "\n",
       "  <style>\n",
       "    pre {\n",
       "        white-space: pre-wrap;\n",
       "    }\n",
       "  </style>\n",
       "  "
      ],
      "text/plain": [
       "<IPython.core.display.HTML object>"
      ]
     },
     "metadata": {
      "tags": []
     },
     "output_type": "display_data"
    }
   ],
   "source": [
    "# Import csv files (Manually from local machine)\n",
    "# from google.colab import files\n",
    "# uploaded = files.upload()"
   ]
  },
  {
   "cell_type": "code",
   "execution_count": null,
   "metadata": {
    "colab": {
     "base_uri": "https://localhost:8080/",
     "height": 17
    },
    "id": "FWHOp3rTh0dZ",
    "outputId": "44b7ab19-69cc-45b2-80bd-d8f97c7f1737"
   },
   "outputs": [
    {
     "data": {
      "text/html": [
       "\n",
       "  <style>\n",
       "    pre {\n",
       "        white-space: pre-wrap;\n",
       "    }\n",
       "  </style>\n",
       "  "
      ],
      "text/plain": [
       "<IPython.core.display.HTML object>"
      ]
     },
     "metadata": {
      "tags": []
     },
     "output_type": "display_data"
    }
   ],
   "source": [
    "# # Import uploaded file into a dataframe\n",
    "# import io\n",
    "# df_train = pd.read_csv(io.BytesIO(uploaded['sentiment140_train.csv']), encoding = 'latin-1')\n",
    "# df_test = pd.read_csv(io.BytesIO(uploaded['sentiment140_test.csv']))"
   ]
  },
  {
   "cell_type": "code",
   "execution_count": null,
   "metadata": {
    "colab": {
     "base_uri": "https://localhost:8080/",
     "height": 136
    },
    "id": "PdvWmniRnyc3",
    "outputId": "d466cc5e-a7ba-40f0-f716-d3ba886e5142"
   },
   "outputs": [
    {
     "data": {
      "text/html": [
       "\n",
       "  <style>\n",
       "    pre {\n",
       "        white-space: pre-wrap;\n",
       "    }\n",
       "  </style>\n",
       "  "
      ],
      "text/plain": [
       "<IPython.core.display.HTML object>"
      ]
     },
     "metadata": {
      "tags": []
     },
     "output_type": "display_data"
    },
    {
     "name": "stdout",
     "output_type": "stream",
     "text": [
      "Drive already mounted at /content/drive; to attempt to forcibly remount, call drive.mount(\"/content/drive\", force_remount=True).\n",
      " bert\t\t\t\t      'Resume (1).gdoc'\n",
      "'Colab Notebooks'\t\t       Resume.gdoc\n",
      "\"Dawson's Documents.pdf\"\t       sentiment140_test.csv\n",
      "'Pre-wedding Shoot'\t\t       sentiment140_train.csv\n",
      "'Quadratic Graphs Booklet.docx'        Takeout\n",
      "'Quadratic Graphs Booklet.docx.gdoc'  'Video for Bell.mp4'\n"
     ]
    }
   ],
   "source": [
    "# Mount Google Drive to Colab\n",
    "from google.colab import drive\n",
    "drive.mount('/content/drive')\n",
    "\n",
    "# # Change to correct directory\n",
    "import os\n",
    "os.chdir(\"/content/drive/MyDrive\")\n",
    "!ls"
   ]
  },
  {
   "cell_type": "code",
   "execution_count": 1,
   "metadata": {
    "colab": {
     "base_uri": "https://localhost:8080/",
     "height": 231
    },
    "id": "t9B7k18loDHg",
    "outputId": "36088adf-2378-4bbf-f0dc-067703e70cb0"
   },
   "outputs": [
    {
     "ename": "NameError",
     "evalue": "ignored",
     "output_type": "error",
     "traceback": [
      "\u001b[0;31m---------------------------------------------------------------------------\u001b[0m",
      "\u001b[0;31mNameError\u001b[0m                                 Traceback (most recent call last)",
      "\u001b[0;32m<ipython-input-1-d8e1f0cfa6c5>\u001b[0m in \u001b[0;36m<module>\u001b[0;34m()\u001b[0m\n\u001b[1;32m      1\u001b[0m \u001b[0;31m# Import files\u001b[0m\u001b[0;34m\u001b[0m\u001b[0;34m\u001b[0m\u001b[0;34m\u001b[0m\u001b[0m\n\u001b[0;32m----> 2\u001b[0;31m \u001b[0mvac_tweets\u001b[0m \u001b[0;34m=\u001b[0m \u001b[0mpd\u001b[0m\u001b[0;34m.\u001b[0m\u001b[0mread_csv\u001b[0m\u001b[0;34m(\u001b[0m\u001b[0;34m'vaccination_all_tweets.csv'\u001b[0m\u001b[0;34m)\u001b[0m\u001b[0;34m\u001b[0m\u001b[0;34m\u001b[0m\u001b[0m\n\u001b[0m\u001b[1;32m      3\u001b[0m \u001b[0mus_vac\u001b[0m \u001b[0;34m=\u001b[0m \u001b[0mpd\u001b[0m\u001b[0;34m.\u001b[0m\u001b[0mread_csv\u001b[0m\u001b[0;34m(\u001b[0m\u001b[0;34m'us_state_vaccinations.csv'\u001b[0m\u001b[0;34m)\u001b[0m\u001b[0;34m\u001b[0m\u001b[0;34m\u001b[0m\u001b[0m\n\u001b[1;32m      4\u001b[0m \u001b[0;34m\u001b[0m\u001b[0m\n\u001b[1;32m      5\u001b[0m \u001b[0;31m# df_train = pd.read_csv('vaccination_all_tweets.csv', header = None, encoding = 'latin-1', engine='python', error_bad_lines=False)\u001b[0m\u001b[0;34m\u001b[0m\u001b[0;34m\u001b[0m\u001b[0;34m\u001b[0m\u001b[0m\n",
      "\u001b[0;31mNameError\u001b[0m: name 'pd' is not defined"
     ]
    }
   ],
   "source": [
    "# Import files\n",
    "df_train = pd.read_csv('vaccination_all_tweets.csv', header = None, encoding = 'latin-1', engine='python', error_bad_lines=False)\n",
    "df_test = pd.read_csv('sentiment140_test.csv', header = None, encoding = 'latin-1', engine='python', error_bad_lines=False)"
   ]
  },
  {
   "cell_type": "code",
   "execution_count": null,
   "metadata": {
    "colab": {
     "base_uri": "https://localhost:8080/",
     "height": 204
    },
    "id": "9lMK_zcqfs96",
    "outputId": "4d0575a8-58cd-4341-e922-f8090e57a893"
   },
   "outputs": [
    {
     "data": {
      "text/html": [
       "\n",
       "  <style>\n",
       "    pre {\n",
       "        white-space: pre-wrap;\n",
       "    }\n",
       "  </style>\n",
       "  "
      ],
      "text/plain": [
       "<IPython.core.display.HTML object>"
      ]
     },
     "metadata": {
      "tags": []
     },
     "output_type": "display_data"
    },
    {
     "data": {
      "text/html": [
       "<div>\n",
       "<style scoped>\n",
       "    .dataframe tbody tr th:only-of-type {\n",
       "        vertical-align: middle;\n",
       "    }\n",
       "\n",
       "    .dataframe tbody tr th {\n",
       "        vertical-align: top;\n",
       "    }\n",
       "\n",
       "    .dataframe thead th {\n",
       "        text-align: right;\n",
       "    }\n",
       "</style>\n",
       "<table border=\"1\" class=\"dataframe\">\n",
       "  <thead>\n",
       "    <tr style=\"text-align: right;\">\n",
       "      <th></th>\n",
       "      <th>sentiment</th>\n",
       "      <th>tweet</th>\n",
       "    </tr>\n",
       "  </thead>\n",
       "  <tbody>\n",
       "    <tr>\n",
       "      <th>0</th>\n",
       "      <td>0</td>\n",
       "      <td>@switchfoot http://twitpic.com/2y1zl - Awww, t...</td>\n",
       "    </tr>\n",
       "    <tr>\n",
       "      <th>1</th>\n",
       "      <td>0</td>\n",
       "      <td>is upset that he can't update his Facebook by ...</td>\n",
       "    </tr>\n",
       "    <tr>\n",
       "      <th>2</th>\n",
       "      <td>0</td>\n",
       "      <td>@Kenichan I dived many times for the ball. Man...</td>\n",
       "    </tr>\n",
       "    <tr>\n",
       "      <th>3</th>\n",
       "      <td>0</td>\n",
       "      <td>my whole body feels itchy and like its on fire</td>\n",
       "    </tr>\n",
       "    <tr>\n",
       "      <th>4</th>\n",
       "      <td>0</td>\n",
       "      <td>@nationwideclass no, it's not behaving at all....</td>\n",
       "    </tr>\n",
       "  </tbody>\n",
       "</table>\n",
       "</div>"
      ],
      "text/plain": [
       "   sentiment                                              tweet\n",
       "0          0  @switchfoot http://twitpic.com/2y1zl - Awww, t...\n",
       "1          0  is upset that he can't update his Facebook by ...\n",
       "2          0  @Kenichan I dived many times for the ball. Man...\n",
       "3          0    my whole body feels itchy and like its on fire \n",
       "4          0  @nationwideclass no, it's not behaving at all...."
      ]
     },
     "execution_count": 11,
     "metadata": {
      "tags": []
     },
     "output_type": "execute_result"
    }
   ],
   "source": [
    "# Rename and select revelant columns\n",
    "df_train.rename(columns = {0:'sentiment', 5:'tweet'}, inplace = True)\n",
    "df_train = df_train[['sentiment','tweet']]\n",
    "\n",
    "# Print first 5 rows of training data\n",
    "df_train.head()"
   ]
  },
  {
   "cell_type": "code",
   "execution_count": null,
   "metadata": {
    "colab": {
     "base_uri": "https://localhost:8080/",
     "height": 51
    },
    "id": "S0RofnkhoVvR",
    "outputId": "1221ec93-b7f8-420d-a5b4-5c7c64683731"
   },
   "outputs": [
    {
     "data": {
      "text/html": [
       "\n",
       "  <style>\n",
       "    pre {\n",
       "        white-space: pre-wrap;\n",
       "    }\n",
       "  </style>\n",
       "  "
      ],
      "text/plain": [
       "<IPython.core.display.HTML object>"
      ]
     },
     "metadata": {
      "tags": []
     },
     "output_type": "display_data"
    },
    {
     "name": "stdout",
     "output_type": "stream",
     "text": [
      "Unique values for sentiment column:\n",
      "[0 4]\n"
     ]
    }
   ],
   "source": [
    "# Note that training data only has 0 and 4 for Sentiment \n",
    "print(\"Unique values for sentiment column:\")\n",
    "print(pd.unique(df_train['sentiment']))"
   ]
  },
  {
   "cell_type": "code",
   "execution_count": null,
   "metadata": {
    "colab": {
     "base_uri": "https://localhost:8080/",
     "height": 255
    },
    "id": "dBcMQFAZO7Wl",
    "outputId": "e9edb5f6-9bd0-4a6b-8160-2f7cbc584d06"
   },
   "outputs": [
    {
     "data": {
      "text/html": [
       "\n",
       "  <style>\n",
       "    pre {\n",
       "        white-space: pre-wrap;\n",
       "    }\n",
       "  </style>\n",
       "  "
      ],
      "text/plain": [
       "<IPython.core.display.HTML object>"
      ]
     },
     "metadata": {
      "tags": []
     },
     "output_type": "display_data"
    },
    {
     "data": {
      "text/html": [
       "<div>\n",
       "<style scoped>\n",
       "    .dataframe tbody tr th:only-of-type {\n",
       "        vertical-align: middle;\n",
       "    }\n",
       "\n",
       "    .dataframe tbody tr th {\n",
       "        vertical-align: top;\n",
       "    }\n",
       "\n",
       "    .dataframe thead th {\n",
       "        text-align: right;\n",
       "    }\n",
       "</style>\n",
       "<table border=\"1\" class=\"dataframe\">\n",
       "  <thead>\n",
       "    <tr style=\"text-align: right;\">\n",
       "      <th></th>\n",
       "      <th>sentiment</th>\n",
       "      <th>tweet</th>\n",
       "    </tr>\n",
       "  </thead>\n",
       "  <tbody>\n",
       "    <tr>\n",
       "      <th>0</th>\n",
       "      <td>negative</td>\n",
       "      <td>@switchfoot http://twitpic.com/2y1zl - Awww, t...</td>\n",
       "    </tr>\n",
       "    <tr>\n",
       "      <th>1</th>\n",
       "      <td>negative</td>\n",
       "      <td>is upset that he can't update his Facebook by ...</td>\n",
       "    </tr>\n",
       "    <tr>\n",
       "      <th>2</th>\n",
       "      <td>negative</td>\n",
       "      <td>@Kenichan I dived many times for the ball. Man...</td>\n",
       "    </tr>\n",
       "    <tr>\n",
       "      <th>3</th>\n",
       "      <td>negative</td>\n",
       "      <td>my whole body feels itchy and like its on fire</td>\n",
       "    </tr>\n",
       "    <tr>\n",
       "      <th>4</th>\n",
       "      <td>negative</td>\n",
       "      <td>@nationwideclass no, it's not behaving at all....</td>\n",
       "    </tr>\n",
       "  </tbody>\n",
       "</table>\n",
       "</div>"
      ],
      "text/plain": [
       "  sentiment                                              tweet\n",
       "0  negative  @switchfoot http://twitpic.com/2y1zl - Awww, t...\n",
       "1  negative  is upset that he can't update his Facebook by ...\n",
       "2  negative  @Kenichan I dived many times for the ball. Man...\n",
       "3  negative    my whole body feels itchy and like its on fire \n",
       "4  negative  @nationwideclass no, it's not behaving at all...."
      ]
     },
     "metadata": {
      "tags": []
     },
     "output_type": "display_data"
    },
    {
     "name": "stdout",
     "output_type": "stream",
     "text": [
      "\n",
      "Unique values for sentiment column:\n",
      "['negative' 'positive']\n"
     ]
    }
   ],
   "source": [
    "# Replace 0 and 4 with their definitions\n",
    "df_train.loc[df_train[\"sentiment\"] == 0,\"sentiment\"] = 'negative'\n",
    "df_train.loc[df_train[\"sentiment\"] == 4, \"sentiment\"] = 'positive'\n",
    "\n",
    "# Print first 5 rows of training data\n",
    "display(df_train.head())\n",
    "\n",
    "print(\"\\nUnique values for sentiment column:\")\n",
    "print(pd.unique(df_train['sentiment']))"
   ]
  },
  {
   "cell_type": "code",
   "execution_count": null,
   "metadata": {
    "colab": {
     "base_uri": "https://localhost:8080/",
     "height": 204
    },
    "id": "cj5En7P6oRx3",
    "outputId": "484e910e-5f9b-461b-fa2d-6f1a5be61ca5"
   },
   "outputs": [
    {
     "data": {
      "text/html": [
       "\n",
       "  <style>\n",
       "    pre {\n",
       "        white-space: pre-wrap;\n",
       "    }\n",
       "  </style>\n",
       "  "
      ],
      "text/plain": [
       "<IPython.core.display.HTML object>"
      ]
     },
     "metadata": {
      "tags": []
     },
     "output_type": "display_data"
    },
    {
     "data": {
      "text/html": [
       "<div>\n",
       "<style scoped>\n",
       "    .dataframe tbody tr th:only-of-type {\n",
       "        vertical-align: middle;\n",
       "    }\n",
       "\n",
       "    .dataframe tbody tr th {\n",
       "        vertical-align: top;\n",
       "    }\n",
       "\n",
       "    .dataframe thead th {\n",
       "        text-align: right;\n",
       "    }\n",
       "</style>\n",
       "<table border=\"1\" class=\"dataframe\">\n",
       "  <thead>\n",
       "    <tr style=\"text-align: right;\">\n",
       "      <th></th>\n",
       "      <th>sentiment</th>\n",
       "      <th>tweet</th>\n",
       "    </tr>\n",
       "  </thead>\n",
       "  <tbody>\n",
       "    <tr>\n",
       "      <th>0</th>\n",
       "      <td>4</td>\n",
       "      <td>@stellargirl I loooooooovvvvvveee my Kindle2. ...</td>\n",
       "    </tr>\n",
       "    <tr>\n",
       "      <th>1</th>\n",
       "      <td>4</td>\n",
       "      <td>Reading my kindle2...  Love it... Lee childs i...</td>\n",
       "    </tr>\n",
       "    <tr>\n",
       "      <th>2</th>\n",
       "      <td>4</td>\n",
       "      <td>Ok, first assesment of the #kindle2 ...it fuck...</td>\n",
       "    </tr>\n",
       "    <tr>\n",
       "      <th>3</th>\n",
       "      <td>4</td>\n",
       "      <td>@kenburbary You'll love your Kindle2. I've had...</td>\n",
       "    </tr>\n",
       "    <tr>\n",
       "      <th>4</th>\n",
       "      <td>4</td>\n",
       "      <td>@mikefish  Fair enough. But i have the Kindle2...</td>\n",
       "    </tr>\n",
       "  </tbody>\n",
       "</table>\n",
       "</div>"
      ],
      "text/plain": [
       "   sentiment                                              tweet\n",
       "0          4  @stellargirl I loooooooovvvvvveee my Kindle2. ...\n",
       "1          4  Reading my kindle2...  Love it... Lee childs i...\n",
       "2          4  Ok, first assesment of the #kindle2 ...it fuck...\n",
       "3          4  @kenburbary You'll love your Kindle2. I've had...\n",
       "4          4  @mikefish  Fair enough. But i have the Kindle2..."
      ]
     },
     "execution_count": 14,
     "metadata": {
      "tags": []
     },
     "output_type": "execute_result"
    }
   ],
   "source": [
    "# Print first 5 rows of test data\n",
    "df_test.rename(columns = {0:'sentiment', 5:'tweet'}, inplace = True)\n",
    "df_test = df_test[['sentiment','tweet']]\n",
    "df_test.head()"
   ]
  },
  {
   "cell_type": "code",
   "execution_count": null,
   "metadata": {
    "colab": {
     "base_uri": "https://localhost:8080/",
     "height": 34
    },
    "id": "5i1SwkAspSvi",
    "outputId": "3d50e18b-743b-4513-9d9d-94c93f6b8c7a"
   },
   "outputs": [
    {
     "data": {
      "text/html": [
       "\n",
       "  <style>\n",
       "    pre {\n",
       "        white-space: pre-wrap;\n",
       "    }\n",
       "  </style>\n",
       "  "
      ],
      "text/plain": [
       "<IPython.core.display.HTML object>"
      ]
     },
     "metadata": {
      "tags": []
     },
     "output_type": "display_data"
    },
    {
     "data": {
      "text/plain": [
       "array([4, 0, 2])"
      ]
     },
     "execution_count": 15,
     "metadata": {
      "tags": []
     },
     "output_type": "execute_result"
    }
   ],
   "source": [
    "# Note that test data only has 0, 2 and 4 for Sentiment \n",
    "pd.unique(df_test['sentiment'])"
   ]
  },
  {
   "cell_type": "code",
   "execution_count": null,
   "metadata": {
    "colab": {
     "base_uri": "https://localhost:8080/",
     "height": 255
    },
    "id": "mVB9jf01QLru",
    "outputId": "2edf0228-78b7-40b9-8c3b-7009e48804dc"
   },
   "outputs": [
    {
     "data": {
      "text/html": [
       "\n",
       "  <style>\n",
       "    pre {\n",
       "        white-space: pre-wrap;\n",
       "    }\n",
       "  </style>\n",
       "  "
      ],
      "text/plain": [
       "<IPython.core.display.HTML object>"
      ]
     },
     "metadata": {
      "tags": []
     },
     "output_type": "display_data"
    },
    {
     "data": {
      "text/html": [
       "<div>\n",
       "<style scoped>\n",
       "    .dataframe tbody tr th:only-of-type {\n",
       "        vertical-align: middle;\n",
       "    }\n",
       "\n",
       "    .dataframe tbody tr th {\n",
       "        vertical-align: top;\n",
       "    }\n",
       "\n",
       "    .dataframe thead th {\n",
       "        text-align: right;\n",
       "    }\n",
       "</style>\n",
       "<table border=\"1\" class=\"dataframe\">\n",
       "  <thead>\n",
       "    <tr style=\"text-align: right;\">\n",
       "      <th></th>\n",
       "      <th>sentiment</th>\n",
       "      <th>tweet</th>\n",
       "    </tr>\n",
       "  </thead>\n",
       "  <tbody>\n",
       "    <tr>\n",
       "      <th>0</th>\n",
       "      <td>positive</td>\n",
       "      <td>@stellargirl I loooooooovvvvvveee my Kindle2. ...</td>\n",
       "    </tr>\n",
       "    <tr>\n",
       "      <th>1</th>\n",
       "      <td>positive</td>\n",
       "      <td>Reading my kindle2...  Love it... Lee childs i...</td>\n",
       "    </tr>\n",
       "    <tr>\n",
       "      <th>2</th>\n",
       "      <td>positive</td>\n",
       "      <td>Ok, first assesment of the #kindle2 ...it fuck...</td>\n",
       "    </tr>\n",
       "    <tr>\n",
       "      <th>3</th>\n",
       "      <td>positive</td>\n",
       "      <td>@kenburbary You'll love your Kindle2. I've had...</td>\n",
       "    </tr>\n",
       "    <tr>\n",
       "      <th>4</th>\n",
       "      <td>positive</td>\n",
       "      <td>@mikefish  Fair enough. But i have the Kindle2...</td>\n",
       "    </tr>\n",
       "  </tbody>\n",
       "</table>\n",
       "</div>"
      ],
      "text/plain": [
       "  sentiment                                              tweet\n",
       "0  positive  @stellargirl I loooooooovvvvvveee my Kindle2. ...\n",
       "1  positive  Reading my kindle2...  Love it... Lee childs i...\n",
       "2  positive  Ok, first assesment of the #kindle2 ...it fuck...\n",
       "3  positive  @kenburbary You'll love your Kindle2. I've had...\n",
       "4  positive  @mikefish  Fair enough. But i have the Kindle2..."
      ]
     },
     "metadata": {
      "tags": []
     },
     "output_type": "display_data"
    },
    {
     "name": "stdout",
     "output_type": "stream",
     "text": [
      "\n",
      "Unique values for sentiment column:\n",
      "['positive' 'negative']\n"
     ]
    }
   ],
   "source": [
    "# Remove rows where sentiment is 2\n",
    "df_test = df_test[df_test['sentiment'] != 2]\n",
    "\n",
    "# Replace 0 and 4 with their definitions\n",
    "df_test.loc[df_test[\"sentiment\"] == 0,\"sentiment\"] = 'negative'\n",
    "df_test.loc[df_test[\"sentiment\"] == 4, \"sentiment\"] = 'positive'\n",
    "\n",
    "# Print first 5 rows of training data\n",
    "display(df_test.head())\n",
    "\n",
    "print(\"\\nUnique values for sentiment column:\")\n",
    "print(pd.unique(df_test['sentiment']))"
   ]
  },
  {
   "cell_type": "code",
   "execution_count": null,
   "metadata": {
    "colab": {
     "base_uri": "https://localhost:8080/",
     "height": 357
    },
    "id": "lyelaAA5F8Fa",
    "outputId": "34bc999e-d43c-4efa-b314-63cfda701b4d"
   },
   "outputs": [
    {
     "data": {
      "text/html": [
       "\n",
       "  <style>\n",
       "    pre {\n",
       "        white-space: pre-wrap;\n",
       "    }\n",
       "  </style>\n",
       "  "
      ],
      "text/plain": [
       "<IPython.core.display.HTML object>"
      ]
     },
     "metadata": {
      "tags": []
     },
     "output_type": "display_data"
    },
    {
     "name": "stdout",
     "output_type": "stream",
     "text": [
      "Tweet 0: @switchfoot http://twitpic.com/2y1zl - Awww, that's a bummer.  You shoulda got David Carr of Third Day to do it. ;D\n",
      "Tweet 1: is upset that he can't update his Facebook by texting it... and might cry as a result  School today also. Blah!\n",
      "Tweet 2: @Kenichan I dived many times for the ball. Managed to save 50%  The rest go out of bounds\n",
      "Tweet 3: my whole body feels itchy and like its on fire \n",
      "Tweet 4: @nationwideclass no, it's not behaving at all. i'm mad. why am i here? because I can't see you all over there. \n",
      "Tweet 5: @Kwesidei not the whole crew \n",
      "Tweet 6: Need a hug \n",
      "Tweet 7: @LOLTrish hey  long time no see! Yes.. Rains a bit ,only a bit  LOL , I'm fine thanks , how's you ?\n",
      "Tweet 8: @Tatiana_K nope they didn't have it \n",
      "Tweet 9: @twittera que me muera ? \n",
      "Tweet 10: spring break in plain city... it's snowing \n",
      "Tweet 11: I just re-pierced my ears \n",
      "Tweet 12: @caregiving I couldn't bear to watch it.  And I thought the UA loss was embarrassing . . . . .\n",
      "Tweet 13: @octolinz16 It it counts, idk why I did either. you never talk to me anymore \n",
      "Tweet 14: @smarrison i would've been the first, but i didn't have a gun.    not really though, zac snyder's just a doucheclown.\n",
      "Tweet 15: @iamjazzyfizzle I wish I got to watch it with you!! I miss you and @iamlilnicki  how was the premiere?!\n",
      "Tweet 16: Hollis' death scene will hurt me severely to watch on film  wry is directors cut not out now?\n",
      "Tweet 17: about to file taxes \n",
      "Tweet 18: @LettyA ahh ive always wanted to see rent  love the soundtrack!!\n",
      "Tweet 19: @FakerPattyPattz Oh dear. Were you drinking out of the forgotten table drinks? \n"
     ]
    }
   ],
   "source": [
    "# Print tweets\n",
    "for i in range(20):\n",
    "  print(\"Tweet \" + str(i) + \": \"+df_train[\"tweet\"][i])"
   ]
  },
  {
   "cell_type": "code",
   "execution_count": null,
   "metadata": {
    "colab": {
     "base_uri": "https://localhost:8080/",
     "height": 154
    },
    "id": "g7ED4JyRBgrJ",
    "outputId": "53f8254c-0a22-4ef9-a44e-7489003c3b85"
   },
   "outputs": [
    {
     "data": {
      "text/html": [
       "\n",
       "  <style>\n",
       "    pre {\n",
       "        white-space: pre-wrap;\n",
       "    }\n",
       "  </style>\n",
       "  "
      ],
      "text/plain": [
       "<IPython.core.display.HTML object>"
      ]
     },
     "metadata": {
      "tags": []
     },
     "output_type": "display_data"
    },
    {
     "name": "stdout",
     "output_type": "stream",
     "text": [
      "Example of a Tweet:\n",
      "happy #charitytuesday @theNSPCC @SparksCharity @SpeakingUpH4H \n",
      "\n",
      "Twitter handles:\n",
      "['@theNSPCC', '@SparksCharity', '@SpeakingUpH4H']\n",
      "\n",
      "Results:\n"
     ]
    },
    {
     "data": {
      "application/vnd.google.colaboratory.intrinsic+json": {
       "type": "string"
      },
      "text/plain": [
       "'happy #charitytuesday'"
      ]
     },
     "execution_count": 18,
     "metadata": {
      "tags": []
     },
     "output_type": "execute_result"
    }
   ],
   "source": [
    "### Clean dataset ###\n",
    "\n",
    "## Step 1: Remove Twitter handles\n",
    "df_train[\"cleaned_tweet\"] = df_train[\"tweet\"].str.replace('@[\\w]*',\"\")\n",
    "df_test[\"cleaned_tweet\"] = df_test[\"tweet\"].str.replace('@[\\w]*',\"\")\n",
    "\n",
    "# Remove leading and trailing whitespaces\n",
    "df_train[\"cleaned_tweet\"] = df_train[\"cleaned_tweet\"].str.strip() \n",
    "df_test[\"cleaned_tweet\"] = df_test[\"cleaned_tweet\"].str.strip() \n",
    "\n",
    "print(\"Example of a Tweet:\")\n",
    "print(df_train[\"tweet\"][1599999])\n",
    "\n",
    "print(\"\\nTwitter handles:\")\n",
    "print(re.findall(r'@[\\w]*', df_train[\"tweet\"][1599999]))\n",
    "\n",
    "print(\"\\nResults:\")\n",
    "df_train[\"cleaned_tweet\"][1599999]"
   ]
  },
  {
   "cell_type": "markdown",
   "metadata": {
    "id": "tofN5AhDG41l"
   },
   "source": [
    "As we can see, some of the unnecessary text and symbols to be removed are — username_tags(like @_WeMeanToClean), retweet symbol(RT), hashtags(like #MyCleanIndia), URLs(like https://t.co/XK3ZReâ\\x80 ),numbers and punctuations .Some of the meaningful hashtags convey meaning and can have some sentiment in it after the word is segmented into useful parts (like #ILoveSwachhBharat). So, instead of removing all the words starting with hashtag symbols, only ‘#’ symbols are removed. We perform this text cleaning using re module in python. The re.sub() function searches for a pattern and replaces with the text we specify. We replace all these symbols with a whitespace character."
   ]
  },
  {
   "cell_type": "code",
   "execution_count": null,
   "metadata": {
    "colab": {
     "base_uri": "https://localhost:8080/",
     "height": 154
    },
    "id": "JgnLUQRqD7nl",
    "outputId": "e9cc5f3d-bb2d-4cd4-8d8c-5646f187cc79"
   },
   "outputs": [
    {
     "data": {
      "text/html": [
       "\n",
       "  <style>\n",
       "    pre {\n",
       "        white-space: pre-wrap;\n",
       "    }\n",
       "  </style>\n",
       "  "
      ],
      "text/plain": [
       "<IPython.core.display.HTML object>"
      ]
     },
     "metadata": {
      "tags": []
     },
     "output_type": "display_data"
    },
    {
     "name": "stdout",
     "output_type": "stream",
     "text": [
      "Example of a Tweet:\n",
      "@switchfoot http://twitpic.com/2y1zl - Awww, that's a bummer.  You shoulda got David Carr of Third Day to do it. ;D\n",
      "\n",
      "URL:\n",
      "['http://twitpic.com/2y1zl']\n",
      "\n",
      "Results:\n"
     ]
    },
    {
     "data": {
      "application/vnd.google.colaboratory.intrinsic+json": {
       "type": "string"
      },
      "text/plain": [
       "\"- Awww, that's a bummer.  You shoulda got David Carr of Third Day to do it. ;D\""
      ]
     },
     "execution_count": 19,
     "metadata": {
      "tags": []
     },
     "output_type": "execute_result"
    }
   ],
   "source": [
    "## Step 2: Remove URLS\n",
    "pattern = 'https?://[A-Za-z0-9./]+'\n",
    "df_train[\"cleaned_tweet\"] = df_train[\"cleaned_tweet\"].str.replace(pattern,\"\")\n",
    "df_test[\"cleaned_tweet\"] = df_test[\"cleaned_tweet\"].str.replace(pattern,\"\")\n",
    "\n",
    "# Remove leading and trailing whitespaces\n",
    "df_train[\"cleaned_tweet\"] = df_train[\"cleaned_tweet\"].str.strip() \n",
    "df_test[\"cleaned_tweet\"] = df_test[\"cleaned_tweet\"].str.strip() \n",
    "\n",
    "print(\"Example of a Tweet:\")\n",
    "print(df_train[\"tweet\"][0])\n",
    "\n",
    "print(\"\\nURL:\")\n",
    "print(re.findall(pattern, df_train[\"tweet\"][0]))\n",
    "\n",
    "print(\"\\nResults:\")\n",
    "df_train[\"cleaned_tweet\"][0]"
   ]
  },
  {
   "cell_type": "code",
   "execution_count": null,
   "metadata": {
    "colab": {
     "base_uri": "https://localhost:8080/",
     "height": 204
    },
    "id": "TWS8XZBXGfUV",
    "outputId": "4f143da3-1d50-4135-bc00-12bbe3953e10"
   },
   "outputs": [
    {
     "data": {
      "text/html": [
       "\n",
       "  <style>\n",
       "    pre {\n",
       "        white-space: pre-wrap;\n",
       "    }\n",
       "  </style>\n",
       "  "
      ],
      "text/plain": [
       "<IPython.core.display.HTML object>"
      ]
     },
     "metadata": {
      "tags": []
     },
     "output_type": "display_data"
    },
    {
     "name": "stdout",
     "output_type": "stream",
     "text": [
      "Example of a Tweet:\n",
      "@switchfoot http://twitpic.com/2y1zl - Awww, that's a bummer.  You shoulda got David Carr of Third Day to do it. ;D\n",
      "happy #charitytuesday @theNSPCC @SparksCharity @SpeakingUpH4H \n",
      "\n",
      "Punctuations, numbers, special characters:\n",
      "['@', ':', '/', '/', '.', '/', '2', '1', '-', ',', \"'\", '.', '.', ';']\n",
      "['#', '@', '@', '@', '4']\n",
      "\n",
      "Results:\n",
      "Awww thats a bummer You shoulda got David Carr of Third Day to do it D\n",
      "happy charitytuesday\n"
     ]
    }
   ],
   "source": [
    "## Step 3: Remove punctuations, numbers and special characters (Remove # but keeping words after #)\n",
    "pattern = '[^a-zA-Z\\s]'\n",
    "df_train[\"cleaned_tweet\"] = df_train[\"cleaned_tweet\"].str.replace(pattern,\"\")\n",
    "df_test[\"cleaned_tweet\"] = df_test[\"cleaned_tweet\"].str.replace(pattern,\"\")\n",
    "\n",
    "# Remove leading and trailing whitespaces\n",
    "df_train[\"cleaned_tweet\"] = df_train[\"cleaned_tweet\"].str.strip() \n",
    "df_test[\"cleaned_tweet\"] = df_test[\"cleaned_tweet\"].str.strip() \n",
    "\n",
    "# Remove extra spaces\n",
    "df_train[\"cleaned_tweet\"] = df_train[\"cleaned_tweet\"].str.replace(\"\\s{2,10}\",\" \")\n",
    "df_test[\"cleaned_tweet\"] = df_test[\"cleaned_tweet\"].str.replace(\"\\s{2,10}\",\" \")\n",
    "\n",
    "print(\"Example of a Tweet:\")\n",
    "print(df_train[\"tweet\"][0])\n",
    "print(df_train[\"tweet\"][1599999])\n",
    "\n",
    "print(\"\\nPunctuations, numbers, special characters:\")\n",
    "print(re.findall(pattern, df_train[\"tweet\"][0]))\n",
    "print(re.findall(pattern, df_train[\"tweet\"][1599999]))\n",
    "\n",
    "print(\"\\nResults:\")\n",
    "print(df_train[\"cleaned_tweet\"][0])\n",
    "print(df_train[\"cleaned_tweet\"][1599999])"
   ]
  },
  {
   "cell_type": "code",
   "execution_count": null,
   "metadata": {
    "colab": {
     "base_uri": "https://localhost:8080/",
     "height": 102
    },
    "id": "0R5bFahaGFhL",
    "outputId": "9724d1cc-e343-42b8-b25f-dfaaa2e6dba9"
   },
   "outputs": [
    {
     "data": {
      "text/html": [
       "\n",
       "  <style>\n",
       "    pre {\n",
       "        white-space: pre-wrap;\n",
       "    }\n",
       "  </style>\n",
       "  "
      ],
      "text/plain": [
       "<IPython.core.display.HTML object>"
      ]
     },
     "metadata": {
      "tags": []
     },
     "output_type": "display_data"
    },
    {
     "name": "stdout",
     "output_type": "stream",
     "text": [
      "Example of a Tweet:\n",
      "@switchfoot http://twitpic.com/2y1zl - Awww, that's a bummer.  You shoulda got David Carr of Third Day to do it. ;D\n",
      "\n",
      "Results:\n",
      "awww thats a bummer you shoulda got david carr of third day to do it d\n"
     ]
    }
   ],
   "source": [
    "## Step 4: Convert all words to lowercase\n",
    "df_train[\"cleaned_tweet\"] = df_train[\"cleaned_tweet\"].str.lower()\n",
    "df_test[\"cleaned_tweet\"] = df_test[\"cleaned_tweet\"].str.lower()\n",
    "\n",
    "print(\"Example of a Tweet:\")\n",
    "print(df_train[\"tweet\"][0])\n",
    "\n",
    "print(\"\\nResults:\")\n",
    "print(df_train[\"cleaned_tweet\"][0])"
   ]
  },
  {
   "cell_type": "code",
   "execution_count": null,
   "metadata": {
    "colab": {
     "base_uri": "https://localhost:8080/",
     "height": 391
    },
    "id": "QuBOzdRSrvkI",
    "outputId": "90388088-fd48-4a31-a3fb-1cccd37d03d0"
   },
   "outputs": [
    {
     "data": {
      "text/html": [
       "\n",
       "  <style>\n",
       "    pre {\n",
       "        white-space: pre-wrap;\n",
       "    }\n",
       "  </style>\n",
       "  "
      ],
      "text/plain": [
       "<IPython.core.display.HTML object>"
      ]
     },
     "metadata": {
      "tags": []
     },
     "output_type": "display_data"
    },
    {
     "name": "stdout",
     "output_type": "stream",
     "text": [
      "Tweets after cleaning: \n",
      "\n",
      "Tweet 0: awww thats a bummer you shoulda got david carr of third day to do it d\n",
      "Tweet 1: is upset that he cant update his facebook by texting it and might cry as a result school today also blah\n",
      "Tweet 2: i dived many times for the ball managed to save the rest go out of bounds\n",
      "Tweet 3: my whole body feels itchy and like its on fire\n",
      "Tweet 4: no its not behaving at all im mad why am i here because i cant see you all over there\n",
      "Tweet 5: not the whole crew\n",
      "Tweet 6: need a hug\n",
      "Tweet 7: hey long time no see yes rains a bit only a bit lol im fine thanks hows you\n",
      "Tweet 8: nope they didnt have it\n",
      "Tweet 9: que me muera\n",
      "Tweet 10: spring break in plain city its snowing\n",
      "Tweet 11: i just repierced my ears\n",
      "Tweet 12: i couldnt bear to watch it and i thought the ua loss was embarrassing\n",
      "Tweet 13: it it counts idk why i did either you never talk to me anymore\n",
      "Tweet 14: i wouldve been the first but i didnt have a gun not really though zac snyders just a doucheclown\n",
      "Tweet 15: i wish i got to watch it with you i miss you and how was the premiere\n",
      "Tweet 16: hollis death scene will hurt me severely to watch on film wry is directors cut not out now\n",
      "Tweet 17: about to file taxes\n",
      "Tweet 18: ahh ive always wanted to see rent love the soundtrack\n",
      "Tweet 19: oh dear were you drinking out of the forgotten table drinks\n"
     ]
    }
   ],
   "source": [
    "# Print tweets\n",
    "print(\"Tweets after cleaning: \\n\")\n",
    "for i in range(20):\n",
    "  print(\"Tweet \" + str(i) + \": \"+df_train[\"cleaned_tweet\"][i])"
   ]
  },
  {
   "cell_type": "code",
   "execution_count": null,
   "metadata": {
    "colab": {
     "base_uri": "https://localhost:8080/",
     "height": 442
    },
    "id": "LOIq_RSyvLbj",
    "outputId": "504f79b7-5788-40f0-fbbb-18f79f73af6f"
   },
   "outputs": [
    {
     "data": {
      "text/html": [
       "\n",
       "  <style>\n",
       "    pre {\n",
       "        white-space: pre-wrap;\n",
       "    }\n",
       "  </style>\n",
       "  "
      ],
      "text/plain": [
       "<IPython.core.display.HTML object>"
      ]
     },
     "metadata": {
      "tags": []
     },
     "output_type": "display_data"
    },
    {
     "name": "stdout",
     "output_type": "stream",
     "text": [
      "Training set:\n"
     ]
    },
    {
     "data": {
      "text/html": [
       "<div>\n",
       "<style scoped>\n",
       "    .dataframe tbody tr th:only-of-type {\n",
       "        vertical-align: middle;\n",
       "    }\n",
       "\n",
       "    .dataframe tbody tr th {\n",
       "        vertical-align: top;\n",
       "    }\n",
       "\n",
       "    .dataframe thead th {\n",
       "        text-align: right;\n",
       "    }\n",
       "</style>\n",
       "<table border=\"1\" class=\"dataframe\">\n",
       "  <thead>\n",
       "    <tr style=\"text-align: right;\">\n",
       "      <th></th>\n",
       "      <th>sentiment</th>\n",
       "      <th>tweet</th>\n",
       "      <th>cleaned_tweet</th>\n",
       "    </tr>\n",
       "  </thead>\n",
       "  <tbody>\n",
       "    <tr>\n",
       "      <th>0</th>\n",
       "      <td>negative</td>\n",
       "      <td>@switchfoot http://twitpic.com/2y1zl - Awww, t...</td>\n",
       "      <td>awww thats a bummer you shoulda got david carr...</td>\n",
       "    </tr>\n",
       "    <tr>\n",
       "      <th>1</th>\n",
       "      <td>negative</td>\n",
       "      <td>is upset that he can't update his Facebook by ...</td>\n",
       "      <td>is upset that he cant update his facebook by t...</td>\n",
       "    </tr>\n",
       "    <tr>\n",
       "      <th>2</th>\n",
       "      <td>negative</td>\n",
       "      <td>@Kenichan I dived many times for the ball. Man...</td>\n",
       "      <td>i dived many times for the ball managed to sav...</td>\n",
       "    </tr>\n",
       "    <tr>\n",
       "      <th>3</th>\n",
       "      <td>negative</td>\n",
       "      <td>my whole body feels itchy and like its on fire</td>\n",
       "      <td>my whole body feels itchy and like its on fire</td>\n",
       "    </tr>\n",
       "    <tr>\n",
       "      <th>4</th>\n",
       "      <td>negative</td>\n",
       "      <td>@nationwideclass no, it's not behaving at all....</td>\n",
       "      <td>no its not behaving at all im mad why am i her...</td>\n",
       "    </tr>\n",
       "  </tbody>\n",
       "</table>\n",
       "</div>"
      ],
      "text/plain": [
       "  sentiment  ...                                      cleaned_tweet\n",
       "0  negative  ...  awww thats a bummer you shoulda got david carr...\n",
       "1  negative  ...  is upset that he cant update his facebook by t...\n",
       "2  negative  ...  i dived many times for the ball managed to sav...\n",
       "3  negative  ...     my whole body feels itchy and like its on fire\n",
       "4  negative  ...  no its not behaving at all im mad why am i her...\n",
       "\n",
       "[5 rows x 3 columns]"
      ]
     },
     "metadata": {
      "tags": []
     },
     "output_type": "display_data"
    },
    {
     "name": "stdout",
     "output_type": "stream",
     "text": [
      "\n",
      "Test set:\n"
     ]
    },
    {
     "data": {
      "text/html": [
       "<div>\n",
       "<style scoped>\n",
       "    .dataframe tbody tr th:only-of-type {\n",
       "        vertical-align: middle;\n",
       "    }\n",
       "\n",
       "    .dataframe tbody tr th {\n",
       "        vertical-align: top;\n",
       "    }\n",
       "\n",
       "    .dataframe thead th {\n",
       "        text-align: right;\n",
       "    }\n",
       "</style>\n",
       "<table border=\"1\" class=\"dataframe\">\n",
       "  <thead>\n",
       "    <tr style=\"text-align: right;\">\n",
       "      <th></th>\n",
       "      <th>sentiment</th>\n",
       "      <th>tweet</th>\n",
       "      <th>cleaned_tweet</th>\n",
       "    </tr>\n",
       "  </thead>\n",
       "  <tbody>\n",
       "    <tr>\n",
       "      <th>0</th>\n",
       "      <td>positive</td>\n",
       "      <td>@stellargirl I loooooooovvvvvveee my Kindle2. ...</td>\n",
       "      <td>i loooooooovvvvvveee my kindle not that the dx...</td>\n",
       "    </tr>\n",
       "    <tr>\n",
       "      <th>1</th>\n",
       "      <td>positive</td>\n",
       "      <td>Reading my kindle2...  Love it... Lee childs i...</td>\n",
       "      <td>reading my kindle love it lee childs is good read</td>\n",
       "    </tr>\n",
       "    <tr>\n",
       "      <th>2</th>\n",
       "      <td>positive</td>\n",
       "      <td>Ok, first assesment of the #kindle2 ...it fuck...</td>\n",
       "      <td>ok first assesment of the kindle it fucking rocks</td>\n",
       "    </tr>\n",
       "    <tr>\n",
       "      <th>3</th>\n",
       "      <td>positive</td>\n",
       "      <td>@kenburbary You'll love your Kindle2. I've had...</td>\n",
       "      <td>youll love your kindle ive had mine for a few ...</td>\n",
       "    </tr>\n",
       "    <tr>\n",
       "      <th>4</th>\n",
       "      <td>positive</td>\n",
       "      <td>@mikefish  Fair enough. But i have the Kindle2...</td>\n",
       "      <td>fair enough but i have the kindle and i think ...</td>\n",
       "    </tr>\n",
       "  </tbody>\n",
       "</table>\n",
       "</div>"
      ],
      "text/plain": [
       "  sentiment  ...                                      cleaned_tweet\n",
       "0  positive  ...  i loooooooovvvvvveee my kindle not that the dx...\n",
       "1  positive  ...  reading my kindle love it lee childs is good read\n",
       "2  positive  ...  ok first assesment of the kindle it fucking rocks\n",
       "3  positive  ...  youll love your kindle ive had mine for a few ...\n",
       "4  positive  ...  fair enough but i have the kindle and i think ...\n",
       "\n",
       "[5 rows x 3 columns]"
      ]
     },
     "metadata": {
      "tags": []
     },
     "output_type": "display_data"
    }
   ],
   "source": [
    "print(\"Training set:\")\n",
    "display(df_train.head())\n",
    "\n",
    "print(\"\\nTest set:\")\n",
    "display(df_test.head())"
   ]
  },
  {
   "cell_type": "code",
   "execution_count": null,
   "metadata": {
    "colab": {
     "base_uri": "https://localhost:8080/",
     "height": 17
    },
    "id": "a3b_PbCwwUM4",
    "outputId": "83197733-eeba-4918-d590-91cba3e80737"
   },
   "outputs": [
    {
     "data": {
      "text/html": [
       "\n",
       "  <style>\n",
       "    pre {\n",
       "        white-space: pre-wrap;\n",
       "    }\n",
       "  </style>\n",
       "  "
      ],
      "text/plain": [
       "<IPython.core.display.HTML object>"
      ]
     },
     "metadata": {
      "tags": []
     },
     "output_type": "display_data"
    }
   ],
   "source": [
    "# InputExample(guid=None,\n",
    "#              text_a = \"Hello, world\",\n",
    "#              text_b = None,\n",
    "#              label = 1)"
   ]
  },
  {
   "cell_type": "code",
   "execution_count": null,
   "metadata": {
    "colab": {
     "base_uri": "https://localhost:8080/",
     "height": 17
    },
    "id": "Komxikti6txH",
    "outputId": "60433218-587e-4598-d1dc-50730b61ac11"
   },
   "outputs": [
    {
     "data": {
      "text/html": [
       "\n",
       "  <style>\n",
       "    pre {\n",
       "        white-space: pre-wrap;\n",
       "    }\n",
       "  </style>\n",
       "  "
      ],
      "text/plain": [
       "<IPython.core.display.HTML object>"
      ]
     },
     "metadata": {
      "tags": []
     },
     "output_type": "display_data"
    }
   ],
   "source": [
    "# Reduce training set to 600 000 rows from 1 600 000 rows\n",
    "# np.random.seed(0)\n",
    "# random_indices = np.random.choice(df_train.shape[0], size = 100000)\n",
    "# df_train_reduced = df_train.iloc[random_indices]\n",
    "# df_train_reduced.shape"
   ]
  },
  {
   "cell_type": "code",
   "execution_count": null,
   "metadata": {
    "colab": {
     "base_uri": "https://localhost:8080/",
     "height": 17
    },
    "id": "x39ilQwunMgp",
    "outputId": "fa455355-ed91-448e-985f-16edf6e15169"
   },
   "outputs": [
    {
     "data": {
      "text/html": [
       "\n",
       "  <style>\n",
       "    pre {\n",
       "        white-space: pre-wrap;\n",
       "    }\n",
       "  </style>\n",
       "  "
      ],
      "text/plain": [
       "<IPython.core.display.HTML object>"
      ]
     },
     "metadata": {
      "tags": []
     },
     "output_type": "display_data"
    }
   ],
   "source": [
    "# np.sum(df_train_reduced['sentiment'] == 'negative')"
   ]
  },
  {
   "cell_type": "code",
   "execution_count": null,
   "metadata": {
    "colab": {
     "base_uri": "https://localhost:8080/",
     "height": 17
    },
    "id": "lJ1kVkufnzm7",
    "outputId": "ad899843-6917-40b1-f56b-630c1c41f8b0"
   },
   "outputs": [
    {
     "data": {
      "text/html": [
       "\n",
       "  <style>\n",
       "    pre {\n",
       "        white-space: pre-wrap;\n",
       "    }\n",
       "  </style>\n",
       "  "
      ],
      "text/plain": [
       "<IPython.core.display.HTML object>"
      ]
     },
     "metadata": {
      "tags": []
     },
     "output_type": "display_data"
    }
   ],
   "source": [
    "# np.sum(df_train_reduced['sentiment'] == 'positive')"
   ]
  },
  {
   "cell_type": "code",
   "execution_count": null,
   "metadata": {
    "colab": {
     "base_uri": "https://localhost:8080/",
     "height": 17
    },
    "id": "CiY2trQ67hhV",
    "outputId": "6eb17f06-45c4-4109-8606-ff51c9a3b317"
   },
   "outputs": [
    {
     "data": {
      "text/html": [
       "\n",
       "  <style>\n",
       "    pre {\n",
       "        white-space: pre-wrap;\n",
       "    }\n",
       "  </style>\n",
       "  "
      ],
      "text/plain": [
       "<IPython.core.display.HTML object>"
      ]
     },
     "metadata": {
      "tags": []
     },
     "output_type": "display_data"
    }
   ],
   "source": [
    "# df_test.shape"
   ]
  },
  {
   "cell_type": "code",
   "execution_count": null,
   "metadata": {
    "colab": {
     "base_uri": "https://localhost:8080/",
     "height": 17
    },
    "id": "NTlZ-chXoYnY",
    "outputId": "a8aa261d-a61d-4f59-e0c1-eadd030e3831"
   },
   "outputs": [
    {
     "data": {
      "text/html": [
       "\n",
       "  <style>\n",
       "    pre {\n",
       "        white-space: pre-wrap;\n",
       "    }\n",
       "  </style>\n",
       "  "
      ],
      "text/plain": [
       "<IPython.core.display.HTML object>"
      ]
     },
     "metadata": {
      "tags": []
     },
     "output_type": "display_data"
    }
   ],
   "source": [
    "from ktrain import text\n",
    "import ktrain\n",
    "\n",
    "# text.texts_from_df?"
   ]
  },
  {
   "cell_type": "markdown",
   "metadata": {
    "id": "GXw8ZWM6rQrw"
   },
   "source": [
    "Twitter has a 280 character limit which is approximately 55 words is 5.1 words as the average word length. The 5.1 figure comes from a research paper that analyzed word lengths using Google Books.\n",
    "\n",
    "According to Google, if your\n",
    "*   max seq length is 64, the recommended max batch side is 64\n",
    "*   max seq length is 128, the recommended max batch side is 32\n",
    "*   max seq length is 256, the recommended max batch side is 16\n",
    "\n",
    "To be safe, we'll set the max seq length to 128 instead of 64 and use the recommended batch size of 32."
   ]
  },
  {
   "cell_type": "code",
   "execution_count": null,
   "metadata": {
    "colab": {
     "base_uri": "https://localhost:8080/",
     "height": 510
    },
    "id": "JiZVtDrBLhgH",
    "outputId": "edc69785-b7bf-492d-9c57-a74dfa1fcd62"
   },
   "outputs": [
    {
     "data": {
      "text/html": [
       "\n",
       "  <style>\n",
       "    pre {\n",
       "        white-space: pre-wrap;\n",
       "    }\n",
       "  </style>\n",
       "  "
      ],
      "text/plain": [
       "<IPython.core.display.HTML object>"
      ]
     },
     "metadata": {
      "tags": []
     },
     "output_type": "display_data"
    },
    {
     "name": "stdout",
     "output_type": "stream",
     "text": [
      "['negative', 'positive']\n",
      "         negative  positive\n",
      "1519669       0.0       1.0\n",
      "1245284       0.0       1.0\n",
      "1299040       0.0       1.0\n",
      "200654        1.0       0.0\n",
      "699963        1.0       0.0\n",
      "['negative', 'positive']\n",
      "         negative  positive\n",
      "557138        1.0       0.0\n",
      "349381        1.0       0.0\n",
      "182051        1.0       0.0\n",
      "571236        1.0       0.0\n",
      "1339637       0.0       1.0\n",
      "downloading pretrained BERT model (uncased_L-12_H-768_A-12.zip)...\n",
      "[██████████████████████████████████████████████████]\n",
      "extracting pretrained BERT model...\n",
      "done.\n",
      "\n",
      "cleanup downloaded zip...\n",
      "done.\n",
      "\n",
      "preprocessing train...\n",
      "language: en\n"
     ]
    },
    {
     "data": {
      "text/html": [
       "done."
      ],
      "text/plain": [
       "<IPython.core.display.HTML object>"
      ]
     },
     "metadata": {
      "tags": []
     },
     "output_type": "display_data"
    },
    {
     "name": "stdout",
     "output_type": "stream",
     "text": [
      "Is Multi-Label? False\n",
      "preprocessing test...\n",
      "language: en\n"
     ]
    },
    {
     "data": {
      "text/html": [
       "done."
      ],
      "text/plain": [
       "<IPython.core.display.HTML object>"
      ]
     },
     "metadata": {
      "tags": []
     },
     "output_type": "display_data"
    }
   ],
   "source": [
    "# (x_train, y_train), (x_valid, y_valid), preproc = text.texts_from_df(train_df = df_train_reduced, \n",
    "(x_train, y_train), (x_valid, y_valid), preproc = text.texts_from_df(train_df = df_train, \n",
    "                                                                   text_column = 'cleaned_tweet',\n",
    "                                                                   label_columns = 'sentiment',\n",
    "                                                                  #  val_df = df_test,\n",
    "                                                                   val_df = None,                    \n",
    "                                                                   maxlen = 128, # max no of words\n",
    "                                                                   val_pct = 0.2, # Percentage of train used for validation\n",
    "                                                                   preprocess_mode = 'bert',\n",
    "                                                                   random_state = 0)"
   ]
  },
  {
   "cell_type": "code",
   "execution_count": null,
   "metadata": {
    "colab": {
     "base_uri": "https://localhost:8080/",
     "height": 68
    },
    "id": "rs-Dct4O-BX7",
    "outputId": "cac2316a-9463-49e3-ef05-bd6556e80940"
   },
   "outputs": [
    {
     "data": {
      "text/html": [
       "\n",
       "  <style>\n",
       "    pre {\n",
       "        white-space: pre-wrap;\n",
       "    }\n",
       "  </style>\n",
       "  "
      ],
      "text/plain": [
       "<IPython.core.display.HTML object>"
      ]
     },
     "metadata": {
      "tags": []
     },
     "output_type": "display_data"
    },
    {
     "name": "stdout",
     "output_type": "stream",
     "text": [
      "Is Multi-Label? False\n",
      "maxlen is 128\n",
      "done.\n"
     ]
    }
   ],
   "source": [
    "# name = \"bert\" means, here we are using BERT model.\n",
    "\n",
    "# text.text_classifier?\n",
    "\n",
    "model = text.text_classifier(name = 'bert',\n",
    "                             train_data = (x_train, y_train),\n",
    "                             metrics=['accuracy'],\n",
    "                             preproc = preproc)"
   ]
  },
  {
   "cell_type": "code",
   "execution_count": null,
   "metadata": {
    "colab": {
     "base_uri": "https://localhost:8080/",
     "height": 17
    },
    "id": "D-hXukO0mzMB",
    "outputId": "585f363d-55da-4b9d-8035-ba3dcf484500"
   },
   "outputs": [
    {
     "data": {
      "text/html": [
       "\n",
       "  <style>\n",
       "    pre {\n",
       "        white-space: pre-wrap;\n",
       "    }\n",
       "  </style>\n",
       "  "
      ],
      "text/plain": [
       "<IPython.core.display.HTML object>"
      ]
     },
     "metadata": {
      "tags": []
     },
     "output_type": "display_data"
    }
   ],
   "source": [
    "# model.summary()"
   ]
  },
  {
   "cell_type": "code",
   "execution_count": null,
   "metadata": {
    "colab": {
     "base_uri": "https://localhost:8080/",
     "height": 17
    },
    "id": "iUh07b1dWyxM",
    "outputId": "bea28504-5a07-4ae1-aae6-bafd1507ca26"
   },
   "outputs": [
    {
     "data": {
      "text/html": [
       "\n",
       "  <style>\n",
       "    pre {\n",
       "        white-space: pre-wrap;\n",
       "    }\n",
       "  </style>\n",
       "  "
      ],
      "text/plain": [
       "<IPython.core.display.HTML object>"
      ]
     },
     "metadata": {
      "tags": []
     },
     "output_type": "display_data"
    }
   ],
   "source": [
    "# #Here we have taken batch size as 6 as from the documentation it is recommend to use this with maxlen as 500\n",
    "# learner = ktrain.get_learner(model=model, train_data=(x_train, y_train),\n",
    "#                    val_data = (x_test, y_test),\n",
    "#                    batch_size = 6)\n",
    "\n",
    "# Batch size of 32 as maxlen is 128\n",
    "learner = ktrain.get_learner(model=model,\n",
    "                             train_data=(x_train, y_train),\n",
    "                             val_data=(x_valid, y_valid),\n",
    "                             batch_size=32)"
   ]
  },
  {
   "cell_type": "markdown",
   "metadata": {
    "id": "7dkj2ETFKAgs"
   },
   "source": [
    "## **Finding the Max Learning Rate**"
   ]
  },
  {
   "cell_type": "code",
   "execution_count": null,
   "metadata": {
    "id": "y5n1nUT0Oeg2"
   },
   "outputs": [],
   "source": [
    "############ DON'T RUN ################\n",
    "# Repeat with more epochs? ###########\n",
    "\n",
    "# Find the maximum learning rate from plot\n",
    "learner.lr_find(show_plot=True, max_epochs=1) "
   ]
  },
  {
   "cell_type": "code",
   "execution_count": null,
   "metadata": {
    "colab": {
     "base_uri": "https://localhost:8080/",
     "height": 285
    },
    "id": "aUk2d07y_d0d",
    "outputId": "0681e972-7f6b-401f-dfca-7ac4d0d7de01"
   },
   "outputs": [
    {
     "data": {
      "image/png": "[encoded data removed]",
      "text/plain": [
       "<Figure size 432x288 with 1 Axes>"
      ]
     },
     "metadata": {
      "tags": []
     },
     "output_type": "display_data"
    }
   ],
   "source": [
    "# The n_skip_beginning and n_skip_end arguments to lr_plot can be used to zoom into the plot\n",
    "# learner.lr_plot(n_skip_beginning, n_skip_end)   \n",
    "\n",
    "learner.lr_plot()"
   ]
  },
  {
   "cell_type": "markdown",
   "metadata": {
    "id": "H2sUAlmzEBCN"
   },
   "source": [
    "In terms of artificial neural networks, an **epoch** refers to one cycle through the full training dataset. Usually, training a neural network takes more than a few epochs."
   ]
  },
  {
   "cell_type": "code",
   "execution_count": null,
   "metadata": {
    "id": "BAiOIfZrqBci"
   },
   "outputs": [],
   "source": []
  },
  {
   "cell_type": "markdown",
   "metadata": {
    "id": "IOxPmvuSJhOU"
   },
   "source": [
    "## **1CYCLE POLICY**"
   ]
  },
  {
   "cell_type": "code",
   "execution_count": null,
   "metadata": {
    "colab": {
     "base_uri": "https://localhost:8080/"
    },
    "id": "NWfIhSYF-scS",
    "outputId": "5bc72e1f-ba74-4890-b44b-e5bca6c35a27"
   },
   "outputs": [
    {
     "name": "stdout",
     "output_type": "stream",
     "text": [
      "\n",
      "\n",
      "begin training using onecycle policy with max lr of 0.0001...\n",
      "Epoch 1/2\n",
      "40000/40000 [==============================] - 15327s 383ms/step - loss: 0.3836 - accuracy: 0.8270 - val_loss: 0.6946 - val_accuracy: 0.5006\n",
      "Epoch 2/2\n",
      "40000/40000 [==============================] - 15210s 380ms/step - loss: 0.6953 - accuracy: 0.4997 - val_loss: 0.6932 - val_accuracy: 0.5006\n"
     ]
    },
    {
     "data": {
      "text/plain": [
       "<tensorflow.python.keras.callbacks.History at 0x7f01101239d0>"
      ]
     },
     "execution_count": 34,
     "metadata": {
      "tags": []
     },
     "output_type": "execute_result"
    }
   ],
   "source": [
    "############ DON'T RUN ################\n",
    "# TESTING: 1CYCLE POLICY, EPOCH = 2   # \n",
    "\n",
    "# Try different training loops and compare their results\n",
    "\n",
    "#Essentially fit is a very basic training loop, whereas fit one cycle uses the one cycle policy callback\n",
    "# learner.fit_onecycle(lr = 2e-5, epochs = 1)\n",
    "# learner.fit_onecycle(lr = 1.2e-7, epochs = 3) #epochs = 3?\n",
    "\n",
    "# Train the model (2 epochs)\n",
    "learner.fit_onecycle(lr = 1e-4, epochs = 2)"
   ]
  },
  {
   "cell_type": "code",
   "execution_count": null,
   "metadata": {
    "colab": {
     "base_uri": "https://localhost:8080/",
     "height": 295
    },
    "id": "mSBPpSdHw7E4",
    "outputId": "ac845308-1daa-41f0-d7cc-2b1f03ec87df"
   },
   "outputs": [
    {
     "data": {
      "image/png": "[encoded data removed]",
      "text/plain": [
       "<Figure size 432x288 with 1 Axes>"
      ]
     },
     "metadata": {
      "needs_background": "light",
      "tags": []
     },
     "output_type": "display_data"
    }
   ],
   "source": [
    "# Plot training learning rate schedule      \n",
    "learner.plot('lr')"
   ]
  },
  {
   "cell_type": "code",
   "execution_count": null,
   "metadata": {
    "colab": {
     "base_uri": "https://localhost:8080/"
    },
    "id": "T1zue-tYTsky",
    "outputId": "25b295f2-cdeb-46f2-f8f6-5179b8791a6e"
   },
   "outputs": [
    {
     "name": "stdout",
     "output_type": "stream",
     "text": [
      "----------\n",
      "id:4609 | loss:0.7 | true:negative | pred:positive)\n",
      "\n",
      "[CLS] is fed up of my nana buying me new shoes [SEP]\n",
      "----------\n",
      "id:12895 | loss:0.7 | true:negative | pred:positive)\n",
      "\n",
      "[CLS] twitter app in facebook k ##la ##pp ##t bei mir nic ##ht [SEP]\n",
      "----------\n",
      "id:18293 | loss:0.7 | true:negative | pred:positive)\n",
      "\n",
      "[CLS] wow that ##s gay and ex ##tre ##ml ##y homo [SEP]\n"
     ]
    }
   ],
   "source": [
    "# View top 3 most misclassified examples in our validation set\n",
    "learner.view_top_losses(n=3, preproc=preproc)"
   ]
  },
  {
   "cell_type": "code",
   "execution_count": null,
   "metadata": {
    "colab": {
     "base_uri": "https://localhost:8080/"
    },
    "id": "8m1lNWuFNUF3",
    "outputId": "4d8d6e77-2dbe-4bf4-8615-f505f0d29a73"
   },
   "outputs": [
    {
     "name": "stderr",
     "output_type": "stream",
     "text": [
      "/usr/local/lib/python3.7/dist-packages/sklearn/metrics/_classification.py:1221: UndefinedMetricWarning: Precision and F-score are ill-defined and being set to 0.0 in labels with no predicted samples. Use `zero_division` parameter to control this behavior.\n",
      "  _warn_prf(average, modifier, msg_start, len(result))\n"
     ]
    },
    {
     "name": "stdout",
     "output_type": "stream",
     "text": [
      "              precision    recall  f1-score   support\n",
      "\n",
      "           0       0.00      0.00      0.00    159815\n",
      "           1       0.50      1.00      0.67    160185\n",
      "\n",
      "    accuracy                           0.50    320000\n",
      "   macro avg       0.25      0.50      0.33    320000\n",
      "weighted avg       0.25      0.50      0.33    320000\n",
      "\n"
     ]
    },
    {
     "data": {
      "text/plain": [
       "array([[     0, 159815],\n",
       "       [     0, 160185]])"
      ]
     },
     "execution_count": 39,
     "metadata": {
      "tags": []
     },
     "output_type": "execute_result"
    }
   ],
   "source": [
    "# View performance on validation data\n",
    "learner.validate(val_data=(x_valid, y_valid))"
   ]
  },
  {
   "cell_type": "code",
   "execution_count": null,
   "metadata": {
    "colab": {
     "base_uri": "https://localhost:8080/"
    },
    "id": "5JdJ224tNf3f",
    "outputId": "7ddb9e64-bb4d-43ed-8e5a-54dedd6eab6d"
   },
   "outputs": [
    {
     "name": "stderr",
     "output_type": "stream",
     "text": [
      "/usr/local/lib/python3.7/dist-packages/sklearn/metrics/_classification.py:1221: UndefinedMetricWarning: Precision and F-score are ill-defined and being set to 0.0 in labels with no predicted samples. Use `zero_division` parameter to control this behavior.\n",
      "  _warn_prf(average, modifier, msg_start, len(result))\n"
     ]
    },
    {
     "name": "stdout",
     "output_type": "stream",
     "text": [
      "              precision    recall  f1-score   support\n",
      "\n",
      "           0       0.00      0.00      0.00    159815\n",
      "           1       0.50      1.00      0.67    160185\n",
      "\n",
      "    accuracy                           0.50    320000\n",
      "   macro avg       0.25      0.50      0.33    320000\n",
      "weighted avg       0.25      0.50      0.33    320000\n",
      "\n"
     ]
    },
    {
     "data": {
      "text/plain": [
       "array([[     0, 159815],\n",
       "       [     0, 160185]])"
      ]
     },
     "execution_count": 44,
     "metadata": {
      "tags": []
     },
     "output_type": "execute_result"
    }
   ],
   "source": [
    "# Alias for self.validate()\n",
    "\n",
    "#View performance on validation data \n",
    "learner.evaluate()"
   ]
  },
  {
   "cell_type": "code",
   "execution_count": null,
   "metadata": {
    "colab": {
     "base_uri": "https://localhost:8080/",
     "height": 295
    },
    "id": "SdDuDgznNtDL",
    "outputId": "946438b1-5515-4c71-91be-a48a092eed72"
   },
   "outputs": [
    {
     "data": {
      "image/png": "[encoded data removed]",
      "text/plain": [
       "<Figure size 432x288 with 1 Axes>"
      ]
     },
     "metadata": {
      "needs_background": "light",
      "tags": []
     },
     "output_type": "display_data"
    }
   ],
   "source": [
    "# Plot graph of loss vs epochs for training and validation set\n",
    "learner.plot()"
   ]
  },
  {
   "cell_type": "code",
   "execution_count": null,
   "metadata": {
    "id": "ngSEFoZgNtOi"
   },
   "outputs": [],
   "source": [
    "# Makes prediction on validation set\n",
    "learner.predict()\n",
    "\n",
    "# valid_preds = learner.predict()\n",
    "# len(valid_preds), df_train.shape, valid_preds[:5]"
   ]
  },
  {
   "cell_type": "code",
   "execution_count": null,
   "metadata": {
    "id": "ALsK-CC0N4CV"
   },
   "outputs": [],
   "source": [
    "print([i for i in dir(learner) if i[0]!='_']) # Options for learner.(function)"
   ]
  },
  {
   "cell_type": "code",
   "execution_count": null,
   "metadata": {
    "colab": {
     "base_uri": "https://localhost:8080/",
     "height": 896
    },
    "id": "ibcGJD186QnN",
    "outputId": "fd464c4c-85d6-4ae9-b180-4a8969351869"
   },
   "outputs": [
    {
     "data": {
      "text/html": [
       "\n",
       "  <style>\n",
       "    pre {\n",
       "        white-space: pre-wrap;\n",
       "    }\n",
       "  </style>\n",
       "  "
      ],
      "text/plain": [
       "<IPython.core.display.HTML object>"
      ]
     },
     "metadata": {
      "tags": []
     },
     "output_type": "display_data"
    },
    {
     "name": "stdout",
     "output_type": "stream",
     "text": [
      "\n",
      "\n",
      "begin training using onecycle policy with max lr of 0.0001...\n",
      "Epoch 1/2\n",
      "40000/40000 [==============================] - 14980s 375ms/step - loss: 0.3787 - accuracy: 0.8312 - val_loss: 0.3989 - val_accuracy: 0.8178\n",
      "Epoch 2/2\n",
      "40000/40000 [==============================] - 14961s 374ms/step - loss: 0.6867 - accuracy: 0.5162 - val_loss: 0.7050 - val_accuracy: 0.5006\n"
     ]
    },
    {
     "name": "stderr",
     "output_type": "stream",
     "text": [
      "/usr/local/lib/python3.7/dist-packages/sklearn/metrics/_classification.py:1221: UndefinedMetricWarning: Precision and F-score are ill-defined and being set to 0.0 in labels with no predicted samples. Use `zero_division` parameter to control this behavior.\n",
      "  _warn_prf(average, modifier, msg_start, len(result))\n"
     ]
    },
    {
     "name": "stdout",
     "output_type": "stream",
     "text": [
      "              precision    recall  f1-score   support\n",
      "\n",
      "           0       0.00      0.00      0.00    159815\n",
      "           1       0.50      1.00      0.67    160185\n",
      "\n",
      "    accuracy                           0.50    320000\n",
      "   macro avg       0.25      0.50      0.33    320000\n",
      "weighted avg       0.25      0.50      0.33    320000\n",
      "\n"
     ]
    },
    {
     "data": {
      "image/png": "[encoded data removed]",
      "text/plain": [
       "<Figure size 432x288 with 1 Axes>"
      ]
     },
     "metadata": {
      "needs_background": "light",
      "tags": []
     },
     "output_type": "display_data"
    },
    {
     "data": {
      "image/png": "[encoded data removed]",
      "text/plain": [
       "<Figure size 432x288 with 1 Axes>"
      ]
     },
     "metadata": {
      "needs_background": "light",
      "tags": []
     },
     "output_type": "display_data"
    }
   ],
   "source": [
    "############ DON'T RUN  ################\n",
    "# TESTING: 1CYCLE POLICY, EPOCH = 2   # \n",
    "\n",
    "# RESET MODEL BEFORE RUNNING TRAINING\n",
    "\n",
    "# Train the model (1 epochs)\n",
    "learner.fit_onecycle(lr = 1e-4, epochs = 2)\n",
    "\n",
    "#View performance on validation data \n",
    "learner.evaluate()\n",
    "\n",
    "# Plot training learning rate schedule      \n",
    "learner.plot('lr')\n",
    "\n",
    "# Plot graph of loss vs epochs for training and validation set\n",
    "learner.plot()\n",
    "\n",
    "# Makes prediction on validation set\n",
    "# learner.predict()"
   ]
  },
  {
   "cell_type": "code",
   "execution_count": null,
   "metadata": {
    "colab": {
     "base_uri": "https://localhost:8080/",
     "height": 68
    },
    "id": "_OipFRLYbuzY",
    "outputId": "afc9f2f3-36e8-4934-c195-3b44d398c839"
   },
   "outputs": [
    {
     "data": {
      "text/html": [
       "\n",
       "  <style>\n",
       "    pre {\n",
       "        white-space: pre-wrap;\n",
       "    }\n",
       "  </style>\n",
       "  "
      ],
      "text/plain": [
       "<IPython.core.display.HTML object>"
      ]
     },
     "metadata": {
      "tags": []
     },
     "output_type": "display_data"
    },
    {
     "name": "stdout",
     "output_type": "stream",
     "text": [
      "\n",
      "\n",
      "begin training using onecycle policy with max lr of 0.0001...\n"
     ]
    }
   ],
   "source": [
    "############ RUN THIS LATER ################\n",
    "# TESTING: 1CYCLE, EPOCH = 1   # \n",
    "\n",
    "# RESET MODEL BEFORE RUNNING TRAINING\n",
    "\n",
    "# Train the model (1 epochs)\n",
    "learner.fit_onecycle(lr = 1e-4, epochs = 1)\n",
    "\n",
    "#View performance on validation data \n",
    "learner.evaluate()\n",
    "\n",
    "# Plot training learning rate schedule      \n",
    "learner.plot('lr')\n",
    "\n",
    "# Plot graph of loss vs epochs for training and validation set\n",
    "learner.plot()\n",
    "\n",
    "# Makes prediction on validation set\n",
    "# learner.predict()\n",
    "\n",
    "# Get predictor\n",
    "predictor = ktrain.get_predictor(learner.model, preproc = preproc)\n",
    "\n",
    "# Save your predictor\n",
    "predictor.save('/content/drive/MyDrive/bert/predictor-1cycle')"
   ]
  },
  {
   "cell_type": "code",
   "execution_count": null,
   "metadata": {
    "id": "leAenkMEEjgn"
   },
   "outputs": [],
   "source": [
    "# View top 3 most misclassified examples in our validation set\n",
    "learner.view_top_losses(n=3, preproc=preproc)"
   ]
  },
  {
   "cell_type": "markdown",
   "metadata": {
    "id": "LMRUQiNwJqel"
   },
   "source": [
    "## **AUTOFIT**"
   ]
  },
  {
   "cell_type": "code",
   "execution_count": null,
   "metadata": {
    "id": "XkzbrFG4E1eR"
   },
   "outputs": [],
   "source": []
  },
  {
   "cell_type": "code",
   "execution_count": null,
   "metadata": {
    "colab": {
     "base_uri": "https://localhost:8080/",
     "height": 794
    },
    "id": "eCgGniqB6aGK",
    "outputId": "e644a31d-3d01-4b1a-cb54-5b29fe9eea08"
   },
   "outputs": [
    {
     "data": {
      "text/html": [
       "\n",
       "  <style>\n",
       "    pre {\n",
       "        white-space: pre-wrap;\n",
       "    }\n",
       "  </style>\n",
       "  "
      ],
      "text/plain": [
       "<IPython.core.display.HTML object>"
      ]
     },
     "metadata": {
      "tags": []
     },
     "output_type": "display_data"
    },
    {
     "name": "stdout",
     "output_type": "stream",
     "text": [
      "\n",
      "\n",
      "begin training using triangular learning rate policy with max lr of 0.0001...\n",
      "40000/40000 [==============================] - 23932s 598ms/step - loss: 0.3906 - accuracy: 0.8237 - val_loss: 0.3429 - val_accuracy: 0.8498\n",
      "              precision    recall  f1-score   support\n",
      "\n",
      "           0       0.85      0.85      0.85    159815\n",
      "           1       0.85      0.85      0.85    160185\n",
      "\n",
      "    accuracy                           0.85    320000\n",
      "   macro avg       0.85      0.85      0.85    320000\n",
      "weighted avg       0.85      0.85      0.85    320000\n",
      "\n"
     ]
    },
    {
     "data": {
      "image/png": "[encoded data removed]",
      "text/plain": [
       "<Figure size 432x288 with 1 Axes>"
      ]
     },
     "metadata": {
      "needs_background": "light",
      "tags": []
     },
     "output_type": "display_data"
    },
    {
     "data": {
      "image/png": "[encoded data removed]",
      "text/plain": [
       "<Figure size 432x288 with 1 Axes>"
      ]
     },
     "metadata": {
      "needs_background": "light",
      "tags": []
     },
     "output_type": "display_data"
    }
   ],
   "source": [
    "############ DON'T RUN ################\n",
    "# TESTING: AUTOFIT, EPOCH = 1   # \n",
    "\n",
    "# RESET MODEL BEFORE RUNNING TRAINING\n",
    "\n",
    "# Train the model (1 epochs)\n",
    "learner.autofit(lr = 1e-4, epochs = 1)\n",
    "# learner.autofit(lr = 1e-4, early_stopping = 2)\n",
    "\n",
    "#View performance on validation data \n",
    "learner.evaluate()\n",
    "\n",
    "# Plot training learning rate schedule      \n",
    "learner.plot('lr')\n",
    "\n",
    "# Plot graph of loss vs epochs for training and validation set\n",
    "learner.plot()\n",
    "\n",
    "# Makes prediction on validation set\n",
    "# learner.predict()\n",
    "\n",
    "# Get predictor\n",
    "predictor = ktrain.get_predictor(learner.model, preproc = preproc)\n",
    "\n",
    "# Save your predictor\n",
    "predictor.save('/content/drive/MyDrive/bert/predictor-autofit')"
   ]
  },
  {
   "cell_type": "code",
   "execution_count": null,
   "metadata": {
    "id": "qNzczXFTFB3m"
   },
   "outputs": [],
   "source": [
    "# Load your predictor\n",
    "predictor_load = ktrain.load_predictor('/content/drive/MyDrive/bert/predictor-autofit')"
   ]
  },
  {
   "cell_type": "code",
   "execution_count": null,
   "metadata": {
    "colab": {
     "base_uri": "https://localhost:8080/",
     "height": 34
    },
    "id": "d0VAKcwUFDtu",
    "outputId": "a62277ec-38b3-47f0-bece-f97232c40540"
   },
   "outputs": [
    {
     "data": {
      "text/html": [
       "\n",
       "  <style>\n",
       "    pre {\n",
       "        white-space: pre-wrap;\n",
       "    }\n",
       "  </style>\n",
       "  "
      ],
      "text/plain": [
       "<IPython.core.display.HTML object>"
      ]
     },
     "metadata": {
      "tags": []
     },
     "output_type": "display_data"
    },
    {
     "name": "stdout",
     "output_type": "stream",
     "text": [
      "Test accuracy: 84%\n"
     ]
    }
   ],
   "source": [
    "# Predict with test data\n",
    "predicted_labels = predictor.predict(df_test[\"cleaned_tweet\"].tolist())\n",
    "accuracy = np.sum(df_test[\"sentiment\"] == predicted_labels)/len(predicted_labels)\n",
    "print(\"Test accuracy: \" + str(round(accuracy*100)) + \"%\")"
   ]
  },
  {
   "cell_type": "code",
   "execution_count": null,
   "metadata": {
    "id": "TKtUirZ4_N4P"
   },
   "outputs": [],
   "source": [
    "############ RUN THIS LATER ################\n",
    "# TESTING: AUTOFIT, EARLY_STOPPING = 2, REDUCE_ON_PLATEAU = 1 # \n",
    "\n",
    "# RESET MODEL BEFORE RUNNING TRAINING\n",
    "\n",
    "# Train the model (1 epochs)\n",
    "# learner.autofit(lr = 1e-4, epochs = 1)\n",
    "learner.autofit(lr = 1e-4, early_stopping = 2, reduce_on_plateau = 1)\n",
    "\n",
    "#View performance on validation data \n",
    "learner.evaluate()\n",
    "\n",
    "# Plot training learning rate schedule      \n",
    "learner.plot('lr')\n",
    "\n",
    "# Plot graph of loss vs epochs for training and validation set\n",
    "learner.plot()\n",
    "\n",
    "# Makes prediction on validation set\n",
    "# learner.predict()\n",
    "\n",
    "# Get predictor\n",
    "predictor = ktrain.get_predictor(learner.model, preproc = preproc)\n",
    "\n",
    "# Save your predictor\n",
    "predictor.save('/content/drive/MyDrive/bert/predictor-autofit-stop-reduce')"
   ]
  },
  {
   "cell_type": "markdown",
   "metadata": {
    "id": "INEUv4y2J0RO"
   },
   "source": []
  },
  {
   "cell_type": "markdown",
   "metadata": {
    "id": "bou3yZ0mJ01P"
   },
   "source": [
    "## **SGDR**"
   ]
  },
  {
   "cell_type": "code",
   "execution_count": null,
   "metadata": {
    "colab": {
     "base_uri": "https://localhost:8080/",
     "height": 571
    },
    "id": "J2icUc35G6Vs",
    "outputId": "d322fbf1-a9ae-49fd-9ecd-50696879e6b2"
   },
   "outputs": [
    {
     "data": {
      "text/html": [
       "\n",
       "  <style>\n",
       "    pre {\n",
       "        white-space: pre-wrap;\n",
       "    }\n",
       "  </style>\n",
       "  "
      ],
      "text/plain": [
       "<IPython.core.display.HTML object>"
      ]
     },
     "metadata": {
      "tags": []
     },
     "output_type": "display_data"
    },
    {
     "name": "stdout",
     "output_type": "stream",
     "text": [
      "40000/40000 [==============================] - 23492s 587ms/step - loss: 0.5818 - accuracy: 0.6407 - val_loss: 0.6936 - val_accuracy: 0.4994\n"
     ]
    },
    {
     "name": "stderr",
     "output_type": "stream",
     "text": [
      "/usr/local/lib/python3.7/dist-packages/sklearn/metrics/_classification.py:1221: UndefinedMetricWarning: Precision and F-score are ill-defined and being set to 0.0 in labels with no predicted samples. Use `zero_division` parameter to control this behavior.\n",
      "  _warn_prf(average, modifier, msg_start, len(result))\n"
     ]
    },
    {
     "name": "stdout",
     "output_type": "stream",
     "text": [
      "              precision    recall  f1-score   support\n",
      "\n",
      "           0       0.50      1.00      0.67    159815\n",
      "           1       0.00      0.00      0.00    160185\n",
      "\n",
      "    accuracy                           0.50    320000\n",
      "   macro avg       0.25      0.50      0.33    320000\n",
      "weighted avg       0.25      0.50      0.33    320000\n",
      "\n"
     ]
    },
    {
     "ename": "ValueError",
     "evalue": "ignored",
     "output_type": "error",
     "traceback": [
      "\u001b[0;31m---------------------------------------------------------------------------\u001b[0m",
      "\u001b[0;31mValueError\u001b[0m                                Traceback (most recent call last)",
      "\u001b[0;32m<ipython-input-29-09c9a06926cf>\u001b[0m in \u001b[0;36m<module>\u001b[0;34m()\u001b[0m\n\u001b[1;32m     11\u001b[0m \u001b[0;34m\u001b[0m\u001b[0m\n\u001b[1;32m     12\u001b[0m \u001b[0;31m# Plot training learning rate schedule\u001b[0m\u001b[0;34m\u001b[0m\u001b[0;34m\u001b[0m\u001b[0;34m\u001b[0m\u001b[0m\n\u001b[0;32m---> 13\u001b[0;31m \u001b[0mlearner\u001b[0m\u001b[0;34m.\u001b[0m\u001b[0mplot\u001b[0m\u001b[0;34m(\u001b[0m\u001b[0;34m'lr'\u001b[0m\u001b[0;34m)\u001b[0m\u001b[0;34m\u001b[0m\u001b[0;34m\u001b[0m\u001b[0m\n\u001b[0m\u001b[1;32m     14\u001b[0m \u001b[0;34m\u001b[0m\u001b[0m\n\u001b[1;32m     15\u001b[0m \u001b[0;31m# Plot graph of loss vs epochs for training and validation set\u001b[0m\u001b[0;34m\u001b[0m\u001b[0;34m\u001b[0m\u001b[0;34m\u001b[0m\u001b[0m\n",
      "\u001b[0;32m/usr/local/lib/python3.7/dist-packages/ktrain/core.py\u001b[0m in \u001b[0;36mplot\u001b[0;34m(self, plot_type, return_fig)\u001b[0m\n\u001b[1;32m    647\u001b[0m         \u001b[0;32melif\u001b[0m \u001b[0mplot_type\u001b[0m \u001b[0;34m==\u001b[0m \u001b[0;34m'lr'\u001b[0m\u001b[0;34m:\u001b[0m\u001b[0;34m\u001b[0m\u001b[0;34m\u001b[0m\u001b[0m\n\u001b[1;32m    648\u001b[0m             \u001b[0;32mif\u001b[0m \u001b[0;34m'lr'\u001b[0m \u001b[0;32mnot\u001b[0m \u001b[0;32min\u001b[0m \u001b[0mself\u001b[0m\u001b[0;34m.\u001b[0m\u001b[0mhistory\u001b[0m\u001b[0;34m.\u001b[0m\u001b[0mhistory\u001b[0m\u001b[0;34m:\u001b[0m\u001b[0;34m\u001b[0m\u001b[0;34m\u001b[0m\u001b[0m\n\u001b[0;32m--> 649\u001b[0;31m                 \u001b[0;32mraise\u001b[0m \u001b[0mValueError\u001b[0m\u001b[0;34m(\u001b[0m\u001b[0;34m'no lr in history: are you sure you used autofit or fit_onecycle to train?'\u001b[0m\u001b[0;34m)\u001b[0m\u001b[0;34m\u001b[0m\u001b[0;34m\u001b[0m\u001b[0m\n\u001b[0m\u001b[1;32m    650\u001b[0m             \u001b[0mplt\u001b[0m\u001b[0;34m.\u001b[0m\u001b[0mplot\u001b[0m\u001b[0;34m(\u001b[0m\u001b[0mself\u001b[0m\u001b[0;34m.\u001b[0m\u001b[0mhistory\u001b[0m\u001b[0;34m.\u001b[0m\u001b[0mhistory\u001b[0m\u001b[0;34m[\u001b[0m\u001b[0;34m'lr'\u001b[0m\u001b[0;34m]\u001b[0m\u001b[0;34m)\u001b[0m\u001b[0;34m\u001b[0m\u001b[0;34m\u001b[0m\u001b[0m\n\u001b[1;32m    651\u001b[0m             \u001b[0mplt\u001b[0m\u001b[0;34m.\u001b[0m\u001b[0mtitle\u001b[0m\u001b[0;34m(\u001b[0m\u001b[0;34m'LR Schedule'\u001b[0m\u001b[0;34m)\u001b[0m\u001b[0;34m\u001b[0m\u001b[0;34m\u001b[0m\u001b[0m\n",
      "\u001b[0;31mValueError\u001b[0m: no lr in history: are you sure you used autofit or fit_onecycle to train?"
     ]
    }
   ],
   "source": [
    "############ DON'T RUN ################\n",
    "# TESTING: SGDR, NO. CYCLE = 1   # \n",
    "\n",
    "# RESET MODEL BEFORE RUNNING TRAINING\n",
    "\n",
    "# Train the model (1 cycle)\n",
    "learner.fit(lr = 1e-4, n_cycles = 1)\n",
    "\n",
    "#View performance on validation data \n",
    "learner.evaluate()\n",
    "\n",
    "# Plot training learning rate schedule      \n",
    "# learner.plot('lr')\n",
    "\n",
    "# Plot graph of loss vs epochs for training and validation set\n",
    "learner.plot()\n",
    "\n",
    "# Makes prediction on validation set\n",
    "# learner.predict()\n",
    "\n",
    "# Get predictor\n",
    "predictor = ktrain.get_predictor(learner.model, preproc = preproc)\n",
    "\n",
    "# Save your predictor\n",
    "predictor.save('/content/drive/MyDrive/bert/predictor-sgdr1')"
   ]
  },
  {
   "cell_type": "code",
   "execution_count": null,
   "metadata": {
    "colab": {
     "base_uri": "https://localhost:8080/",
     "height": 295
    },
    "id": "URS1r3f6pcl1",
    "outputId": "b142a052-5b37-4c41-f39f-923fe7a28774"
   },
   "outputs": [
    {
     "data": {
      "text/html": [
       "\n",
       "  <style>\n",
       "    pre {\n",
       "        white-space: pre-wrap;\n",
       "    }\n",
       "  </style>\n",
       "  "
      ],
      "text/plain": [
       "<IPython.core.display.HTML object>"
      ]
     },
     "metadata": {
      "tags": []
     },
     "output_type": "display_data"
    },
    {
     "data": {
      "image/png": "[encoded data removed]",
      "text/plain": [
       "<Figure size 432x288 with 1 Axes>"
      ]
     },
     "metadata": {
      "needs_background": "light",
      "tags": []
     },
     "output_type": "display_data"
    }
   ],
   "source": [
    "\n",
    "# Plot graph of loss vs epochs for training and validation set\n",
    "learner.plot()\n",
    "\n",
    "# Makes prediction on validation set\n",
    "# learner.predict()\n",
    "\n",
    "# Get predictor\n",
    "predictor = ktrain.get_predictor(learner.model, preproc = preproc)\n",
    "\n",
    "# Save your predictor\n",
    "predictor.save('/content/drive/MyDrive/bert/predictor-sgdr1')"
   ]
  },
  {
   "cell_type": "code",
   "execution_count": null,
   "metadata": {
    "id": "tIX4vkAXI8jz"
   },
   "outputs": [],
   "source": [
    "# Load your predictor\n",
    "predictor_load = ktrain.load_predictor('/content/drive/MyDrive/bert/predictor-sgdr1')"
   ]
  },
  {
   "cell_type": "code",
   "execution_count": null,
   "metadata": {
    "colab": {
     "base_uri": "https://localhost:8080/",
     "height": 34
    },
    "id": "FpNWiqq6I8tq",
    "outputId": "cfe1a864-6d7f-4ea6-e30e-8681057b8a89"
   },
   "outputs": [
    {
     "data": {
      "text/html": [
       "\n",
       "  <style>\n",
       "    pre {\n",
       "        white-space: pre-wrap;\n",
       "    }\n",
       "  </style>\n",
       "  "
      ],
      "text/plain": [
       "<IPython.core.display.HTML object>"
      ]
     },
     "metadata": {
      "tags": []
     },
     "output_type": "display_data"
    },
    {
     "name": "stdout",
     "output_type": "stream",
     "text": [
      "Test accuracy: 49%\n"
     ]
    }
   ],
   "source": [
    "# Predict with test data\n",
    "predicted_labels = predictor.predict(df_test[\"cleaned_tweet\"].tolist())\n",
    "accuracy = np.sum(df_test[\"sentiment\"] == predicted_labels)/len(predicted_labels)\n",
    "print(\"Test accuracy: \" + str(round(accuracy*100)) + \"%\")"
   ]
  },
  {
   "cell_type": "markdown",
   "metadata": {
    "id": "tZzRIr_ZN4lw"
   },
   "source": [
    "## Model prediction on Test Data"
   ]
  },
  {
   "cell_type": "code",
   "execution_count": null,
   "metadata": {
    "colab": {
     "base_uri": "https://localhost:8080/",
     "height": 17
    },
    "id": "-V7EDeYLDxkt",
    "outputId": "267ad13e-c8be-4e1f-c8f8-78a002cce148"
   },
   "outputs": [
    {
     "data": {
      "text/html": [
       "\n",
       "  <style>\n",
       "    pre {\n",
       "        white-space: pre-wrap;\n",
       "    }\n",
       "  </style>\n",
       "  "
      ],
      "text/plain": [
       "<IPython.core.display.HTML object>"
      ]
     },
     "metadata": {
      "tags": []
     },
     "output_type": "display_data"
    }
   ],
   "source": [
    "# Predict \n",
    "predictor = ktrain.get_predictor(learner.model, preproc = preproc)\n"
   ]
  },
  {
   "cell_type": "code",
   "execution_count": null,
   "metadata": {
    "id": "FgFXT5PFOjs2"
   },
   "outputs": [],
   "source": [
    "[i for i in dir(predictor) if i[0]!='_'] # options for predictor.(function)"
   ]
  },
  {
   "cell_type": "code",
   "execution_count": null,
   "metadata": {
    "id": "92Xdpl-tOo3U"
   },
   "outputs": [],
   "source": [
    "predictor.get_classes()"
   ]
  },
  {
   "cell_type": "code",
   "execution_count": null,
   "metadata": {
    "id": "Wp2Q-k0rHbme"
   },
   "outputs": [],
   "source": [
    "data = ['i am really sad today! help me',\n",
    "             'what a great day it is today',\n",
    "             'omg it is snowing today']"
   ]
  },
  {
   "cell_type": "code",
   "execution_count": null,
   "metadata": {
    "id": "D4nU5UESO6FT"
   },
   "outputs": [],
   "source": [
    "predictor.predict(data)\n",
    "predictor.predict(data_test)"
   ]
  },
  {
   "cell_type": "code",
   "execution_count": null,
   "metadata": {
    "id": "sYgQkZJLOw1E"
   },
   "outputs": [],
   "source": [
    "# See explaining text classification\n",
    "predictor.explain(data[0])"
   ]
  },
  {
   "cell_type": "code",
   "execution_count": null,
   "metadata": {
    "colab": {
     "base_uri": "https://localhost:8080/",
     "height": 17
    },
    "id": "q5BW-zZjIKAb",
    "outputId": "11376312-da3e-41c1-caae-90fdaa929b7c"
   },
   "outputs": [
    {
     "data": {
      "text/html": [
       "\n",
       "  <style>\n",
       "    pre {\n",
       "        white-space: pre-wrap;\n",
       "    }\n",
       "  </style>\n",
       "  "
      ],
      "text/plain": [
       "<IPython.core.display.HTML object>"
      ]
     },
     "metadata": {
      "tags": []
     },
     "output_type": "display_data"
    }
   ],
   "source": [
    "# Save your predictor\n",
    "predictor.save('/content/bert')"
   ]
  },
  {
   "cell_type": "code",
   "execution_count": null,
   "metadata": {
    "id": "EFB63BpJI4FZ"
   },
   "outputs": [],
   "source": [
    "#loading the model\n",
    "\n",
    "predictor_load = ktrain.load_predictor('/content/bert')"
   ]
  },
  {
   "cell_type": "code",
   "execution_count": null,
   "metadata": {
    "colab": {
     "base_uri": "https://localhost:8080/"
    },
    "id": "41h_rH5qI5MA",
    "outputId": "576ffb0a-197e-4cb4-d02a-dc6a86021abc"
   },
   "outputs": [
    {
     "data": {
      "text/plain": [
       "['negative', 'positive', 'negative']"
      ]
     },
     "execution_count": 38,
     "metadata": {
      "tags": []
     },
     "output_type": "execute_result"
    }
   ],
   "source": [
    "#predicting the data\n",
    "\n",
    "predictor_load.predict(data)"
   ]
  },
  {
   "cell_type": "code",
   "execution_count": null,
   "metadata": {
    "id": "ir5oZlgrKXIt"
   },
   "outputs": [],
   "source": []
  },
  {
   "cell_type": "code",
   "execution_count": null,
   "metadata": {
    "id": "7oICoiJNmxHJ"
   },
   "outputs": [],
   "source": []
  },
  {
   "cell_type": "markdown",
   "metadata": {
    "id": "RZ4zm6DnrMxz"
   },
   "source": []
  },
  {
   "cell_type": "code",
   "execution_count": null,
   "metadata": {
    "id": "rKGFKShO_bsH"
   },
   "outputs": [],
   "source": []
  }
 ],
 "metadata": {
  "accelerator": "GPU",
  "colab": {
   "collapsed_sections": [],
   "machine_shape": "hm",
   "name": "Part 1: Fine Tuning Bert V2.ipynb",
   "provenance": []
  },
  "kernelspec": {
   "display_name": "Python 3",
   "language": "python",
   "name": "python3"
  },
  "language_info": {
   "codemirror_mode": {
    "name": "ipython",
    "version": 3
   },
   "file_extension": ".py",
   "mimetype": "text/x-python",
   "name": "python",
   "nbconvert_exporter": "python",
   "pygments_lexer": "ipython3",
   "version": "3.8.8"
  }
 },
 "nbformat": 4,
 "nbformat_minor": 1
}
